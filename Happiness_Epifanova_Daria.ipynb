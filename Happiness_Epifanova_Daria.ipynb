{
 "cells": [
  {
   "cell_type": "markdown",
   "metadata": {},
   "source": [
    "### Классификация - 'Happiness in life'"
   ]
  },
  {
   "cell_type": "code",
   "execution_count": 24,
   "metadata": {
    "collapsed": true
   },
   "outputs": [],
   "source": [
    "import warnings\n",
    "warnings.filterwarnings('ignore') "
   ]
  },
  {
   "cell_type": "code",
   "execution_count": 25,
   "metadata": {
    "collapsed": true
   },
   "outputs": [],
   "source": [
    "import pandas as pd                   \n",
    "import matplotlib.pyplot as plt \n",
    "import seaborn as sns\n",
    "plt.style.use('ggplot')  \n",
    "%matplotlib inline "
   ]
  },
  {
   "cell_type": "markdown",
   "metadata": {},
   "source": [
    "Цель: понять цену счастья через интересы, хобби и предпочтения подростков."
   ]
  },
  {
   "cell_type": "code",
   "execution_count": 26,
   "metadata": {
    "collapsed": true
   },
   "outputs": [],
   "source": [
    "data = pd.read_csv('/Users/dashaepifanova/Desktop/responses.csv')"
   ]
  },
  {
   "cell_type": "code",
   "execution_count": 27,
   "metadata": {},
   "outputs": [
    {
     "data": {
      "text/html": [
       "<div>\n",
       "<style scoped>\n",
       "    .dataframe tbody tr th:only-of-type {\n",
       "        vertical-align: middle;\n",
       "    }\n",
       "\n",
       "    .dataframe tbody tr th {\n",
       "        vertical-align: top;\n",
       "    }\n",
       "\n",
       "    .dataframe thead th {\n",
       "        text-align: right;\n",
       "    }\n",
       "</style>\n",
       "<table border=\"1\" class=\"dataframe\">\n",
       "  <thead>\n",
       "    <tr style=\"text-align: right;\">\n",
       "      <th></th>\n",
       "      <th>Music</th>\n",
       "      <th>Slow songs or fast songs</th>\n",
       "      <th>Dance</th>\n",
       "      <th>Folk</th>\n",
       "      <th>Country</th>\n",
       "      <th>Classical music</th>\n",
       "      <th>Musical</th>\n",
       "      <th>Pop</th>\n",
       "      <th>Rock</th>\n",
       "      <th>Metal or Hardrock</th>\n",
       "      <th>...</th>\n",
       "      <th>Age</th>\n",
       "      <th>Height</th>\n",
       "      <th>Weight</th>\n",
       "      <th>Number of siblings</th>\n",
       "      <th>Gender</th>\n",
       "      <th>Left - right handed</th>\n",
       "      <th>Education</th>\n",
       "      <th>Only child</th>\n",
       "      <th>Village - town</th>\n",
       "      <th>House - block of flats</th>\n",
       "    </tr>\n",
       "  </thead>\n",
       "  <tbody>\n",
       "    <tr>\n",
       "      <th>0</th>\n",
       "      <td>5.0</td>\n",
       "      <td>3.0</td>\n",
       "      <td>2.0</td>\n",
       "      <td>1.0</td>\n",
       "      <td>2.0</td>\n",
       "      <td>2.0</td>\n",
       "      <td>1.0</td>\n",
       "      <td>5.0</td>\n",
       "      <td>5.0</td>\n",
       "      <td>1.0</td>\n",
       "      <td>...</td>\n",
       "      <td>20.0</td>\n",
       "      <td>163.0</td>\n",
       "      <td>48.0</td>\n",
       "      <td>1.0</td>\n",
       "      <td>female</td>\n",
       "      <td>right handed</td>\n",
       "      <td>college/bachelor degree</td>\n",
       "      <td>no</td>\n",
       "      <td>village</td>\n",
       "      <td>block of flats</td>\n",
       "    </tr>\n",
       "    <tr>\n",
       "      <th>1</th>\n",
       "      <td>4.0</td>\n",
       "      <td>4.0</td>\n",
       "      <td>2.0</td>\n",
       "      <td>1.0</td>\n",
       "      <td>1.0</td>\n",
       "      <td>1.0</td>\n",
       "      <td>2.0</td>\n",
       "      <td>3.0</td>\n",
       "      <td>5.0</td>\n",
       "      <td>4.0</td>\n",
       "      <td>...</td>\n",
       "      <td>19.0</td>\n",
       "      <td>163.0</td>\n",
       "      <td>58.0</td>\n",
       "      <td>2.0</td>\n",
       "      <td>female</td>\n",
       "      <td>right handed</td>\n",
       "      <td>college/bachelor degree</td>\n",
       "      <td>no</td>\n",
       "      <td>city</td>\n",
       "      <td>block of flats</td>\n",
       "    </tr>\n",
       "    <tr>\n",
       "      <th>2</th>\n",
       "      <td>5.0</td>\n",
       "      <td>5.0</td>\n",
       "      <td>2.0</td>\n",
       "      <td>2.0</td>\n",
       "      <td>3.0</td>\n",
       "      <td>4.0</td>\n",
       "      <td>5.0</td>\n",
       "      <td>3.0</td>\n",
       "      <td>5.0</td>\n",
       "      <td>3.0</td>\n",
       "      <td>...</td>\n",
       "      <td>20.0</td>\n",
       "      <td>176.0</td>\n",
       "      <td>67.0</td>\n",
       "      <td>2.0</td>\n",
       "      <td>female</td>\n",
       "      <td>right handed</td>\n",
       "      <td>secondary school</td>\n",
       "      <td>no</td>\n",
       "      <td>city</td>\n",
       "      <td>block of flats</td>\n",
       "    </tr>\n",
       "    <tr>\n",
       "      <th>3</th>\n",
       "      <td>5.0</td>\n",
       "      <td>3.0</td>\n",
       "      <td>2.0</td>\n",
       "      <td>1.0</td>\n",
       "      <td>1.0</td>\n",
       "      <td>1.0</td>\n",
       "      <td>1.0</td>\n",
       "      <td>2.0</td>\n",
       "      <td>2.0</td>\n",
       "      <td>1.0</td>\n",
       "      <td>...</td>\n",
       "      <td>22.0</td>\n",
       "      <td>172.0</td>\n",
       "      <td>59.0</td>\n",
       "      <td>1.0</td>\n",
       "      <td>female</td>\n",
       "      <td>right handed</td>\n",
       "      <td>college/bachelor degree</td>\n",
       "      <td>yes</td>\n",
       "      <td>city</td>\n",
       "      <td>house/bungalow</td>\n",
       "    </tr>\n",
       "    <tr>\n",
       "      <th>4</th>\n",
       "      <td>5.0</td>\n",
       "      <td>3.0</td>\n",
       "      <td>4.0</td>\n",
       "      <td>3.0</td>\n",
       "      <td>2.0</td>\n",
       "      <td>4.0</td>\n",
       "      <td>3.0</td>\n",
       "      <td>5.0</td>\n",
       "      <td>3.0</td>\n",
       "      <td>1.0</td>\n",
       "      <td>...</td>\n",
       "      <td>20.0</td>\n",
       "      <td>170.0</td>\n",
       "      <td>59.0</td>\n",
       "      <td>1.0</td>\n",
       "      <td>female</td>\n",
       "      <td>right handed</td>\n",
       "      <td>secondary school</td>\n",
       "      <td>no</td>\n",
       "      <td>village</td>\n",
       "      <td>house/bungalow</td>\n",
       "    </tr>\n",
       "  </tbody>\n",
       "</table>\n",
       "<p>5 rows × 150 columns</p>\n",
       "</div>"
      ],
      "text/plain": [
       "   Music  Slow songs or fast songs  Dance  Folk  Country  Classical music  \\\n",
       "0    5.0                       3.0    2.0   1.0      2.0              2.0   \n",
       "1    4.0                       4.0    2.0   1.0      1.0              1.0   \n",
       "2    5.0                       5.0    2.0   2.0      3.0              4.0   \n",
       "3    5.0                       3.0    2.0   1.0      1.0              1.0   \n",
       "4    5.0                       3.0    4.0   3.0      2.0              4.0   \n",
       "\n",
       "   Musical  Pop  Rock  Metal or Hardrock           ...             Age  \\\n",
       "0      1.0  5.0   5.0                1.0           ...            20.0   \n",
       "1      2.0  3.0   5.0                4.0           ...            19.0   \n",
       "2      5.0  3.0   5.0                3.0           ...            20.0   \n",
       "3      1.0  2.0   2.0                1.0           ...            22.0   \n",
       "4      3.0  5.0   3.0                1.0           ...            20.0   \n",
       "\n",
       "   Height  Weight  Number of siblings  Gender  Left - right handed  \\\n",
       "0   163.0    48.0                 1.0  female         right handed   \n",
       "1   163.0    58.0                 2.0  female         right handed   \n",
       "2   176.0    67.0                 2.0  female         right handed   \n",
       "3   172.0    59.0                 1.0  female         right handed   \n",
       "4   170.0    59.0                 1.0  female         right handed   \n",
       "\n",
       "                 Education  Only child  Village - town  House - block of flats  \n",
       "0  college/bachelor degree          no         village          block of flats  \n",
       "1  college/bachelor degree          no            city          block of flats  \n",
       "2         secondary school          no            city          block of flats  \n",
       "3  college/bachelor degree         yes            city          house/bungalow  \n",
       "4         secondary school          no         village          house/bungalow  \n",
       "\n",
       "[5 rows x 150 columns]"
      ]
     },
     "execution_count": 27,
     "metadata": {},
     "output_type": "execute_result"
    }
   ],
   "source": [
    "data = pd.read_csv('/Users/dashaepifanova/Desktop/responses.csv')\n",
    "data.head()"
   ]
  },
  {
   "cell_type": "code",
   "execution_count": 28,
   "metadata": {
    "scrolled": true
   },
   "outputs": [
    {
     "data": {
      "text/html": [
       "<div>\n",
       "<style scoped>\n",
       "    .dataframe tbody tr th:only-of-type {\n",
       "        vertical-align: middle;\n",
       "    }\n",
       "\n",
       "    .dataframe tbody tr th {\n",
       "        vertical-align: top;\n",
       "    }\n",
       "\n",
       "    .dataframe thead th {\n",
       "        text-align: right;\n",
       "    }\n",
       "</style>\n",
       "<table border=\"1\" class=\"dataframe\">\n",
       "  <thead>\n",
       "    <tr style=\"text-align: right;\">\n",
       "      <th></th>\n",
       "      <th>original</th>\n",
       "      <th>short</th>\n",
       "    </tr>\n",
       "  </thead>\n",
       "  <tbody>\n",
       "    <tr>\n",
       "      <th>0</th>\n",
       "      <td>I enjoy listening to music.</td>\n",
       "      <td>Music</td>\n",
       "    </tr>\n",
       "    <tr>\n",
       "      <th>1</th>\n",
       "      <td>I prefer.</td>\n",
       "      <td>Slow songs or fast songs</td>\n",
       "    </tr>\n",
       "    <tr>\n",
       "      <th>2</th>\n",
       "      <td>Dance, Disco, Funk</td>\n",
       "      <td>Dance</td>\n",
       "    </tr>\n",
       "    <tr>\n",
       "      <th>3</th>\n",
       "      <td>Folk music</td>\n",
       "      <td>Folk</td>\n",
       "    </tr>\n",
       "    <tr>\n",
       "      <th>4</th>\n",
       "      <td>Country</td>\n",
       "      <td>Country</td>\n",
       "    </tr>\n",
       "    <tr>\n",
       "      <th>5</th>\n",
       "      <td>Classical</td>\n",
       "      <td>Classical music</td>\n",
       "    </tr>\n",
       "    <tr>\n",
       "      <th>6</th>\n",
       "      <td>Musicals</td>\n",
       "      <td>Musical</td>\n",
       "    </tr>\n",
       "    <tr>\n",
       "      <th>7</th>\n",
       "      <td>Pop</td>\n",
       "      <td>Pop</td>\n",
       "    </tr>\n",
       "    <tr>\n",
       "      <th>8</th>\n",
       "      <td>Rock</td>\n",
       "      <td>Rock</td>\n",
       "    </tr>\n",
       "    <tr>\n",
       "      <th>9</th>\n",
       "      <td>Metal, Hard rock</td>\n",
       "      <td>Metal or Hardrock</td>\n",
       "    </tr>\n",
       "    <tr>\n",
       "      <th>10</th>\n",
       "      <td>Punk</td>\n",
       "      <td>Punk</td>\n",
       "    </tr>\n",
       "    <tr>\n",
       "      <th>11</th>\n",
       "      <td>Hip hop, Rap</td>\n",
       "      <td>Hiphop, Rap</td>\n",
       "    </tr>\n",
       "    <tr>\n",
       "      <th>12</th>\n",
       "      <td>Reggae, Ska</td>\n",
       "      <td>Reggae, Ska</td>\n",
       "    </tr>\n",
       "    <tr>\n",
       "      <th>13</th>\n",
       "      <td>Swing, Jazz</td>\n",
       "      <td>Swing, Jazz</td>\n",
       "    </tr>\n",
       "    <tr>\n",
       "      <th>14</th>\n",
       "      <td>Rock n Roll</td>\n",
       "      <td>Rock n roll</td>\n",
       "    </tr>\n",
       "    <tr>\n",
       "      <th>15</th>\n",
       "      <td>Alternative music</td>\n",
       "      <td>Alternative</td>\n",
       "    </tr>\n",
       "    <tr>\n",
       "      <th>16</th>\n",
       "      <td>Latin</td>\n",
       "      <td>Latino</td>\n",
       "    </tr>\n",
       "    <tr>\n",
       "      <th>17</th>\n",
       "      <td>Techno, Trance</td>\n",
       "      <td>Techno, Trance</td>\n",
       "    </tr>\n",
       "    <tr>\n",
       "      <th>18</th>\n",
       "      <td>Opera</td>\n",
       "      <td>Opera</td>\n",
       "    </tr>\n",
       "    <tr>\n",
       "      <th>19</th>\n",
       "      <td>I really enjoy watching movies.</td>\n",
       "      <td>Movies</td>\n",
       "    </tr>\n",
       "    <tr>\n",
       "      <th>20</th>\n",
       "      <td>Horror movies</td>\n",
       "      <td>Horror</td>\n",
       "    </tr>\n",
       "    <tr>\n",
       "      <th>21</th>\n",
       "      <td>Thriller movies</td>\n",
       "      <td>Thriller</td>\n",
       "    </tr>\n",
       "    <tr>\n",
       "      <th>22</th>\n",
       "      <td>Comedies</td>\n",
       "      <td>Comedy</td>\n",
       "    </tr>\n",
       "    <tr>\n",
       "      <th>23</th>\n",
       "      <td>Romantic movies</td>\n",
       "      <td>Romantic</td>\n",
       "    </tr>\n",
       "    <tr>\n",
       "      <th>24</th>\n",
       "      <td>Sci-fi movies</td>\n",
       "      <td>Sci-fi</td>\n",
       "    </tr>\n",
       "    <tr>\n",
       "      <th>25</th>\n",
       "      <td>War movies</td>\n",
       "      <td>War</td>\n",
       "    </tr>\n",
       "    <tr>\n",
       "      <th>26</th>\n",
       "      <td>Tales</td>\n",
       "      <td>Fantasy/Fairy tales</td>\n",
       "    </tr>\n",
       "    <tr>\n",
       "      <th>27</th>\n",
       "      <td>Cartoons</td>\n",
       "      <td>Animated</td>\n",
       "    </tr>\n",
       "    <tr>\n",
       "      <th>28</th>\n",
       "      <td>Documentaries</td>\n",
       "      <td>Documentary</td>\n",
       "    </tr>\n",
       "    <tr>\n",
       "      <th>29</th>\n",
       "      <td>Western movies</td>\n",
       "      <td>Western</td>\n",
       "    </tr>\n",
       "    <tr>\n",
       "      <th>...</th>\n",
       "      <td>...</td>\n",
       "      <td>...</td>\n",
       "    </tr>\n",
       "    <tr>\n",
       "      <th>120</th>\n",
       "      <td>I have to be well prepared before public speak...</td>\n",
       "      <td>Public speaking</td>\n",
       "    </tr>\n",
       "    <tr>\n",
       "      <th>121</th>\n",
       "      <td>I will find a fault in myself if people don't ...</td>\n",
       "      <td>Unpopularity</td>\n",
       "    </tr>\n",
       "    <tr>\n",
       "      <th>122</th>\n",
       "      <td>I cry when I feel down or things don't go the ...</td>\n",
       "      <td>Life struggles</td>\n",
       "    </tr>\n",
       "    <tr>\n",
       "      <th>123</th>\n",
       "      <td>I am 100% happy with my life.</td>\n",
       "      <td>Happiness in life</td>\n",
       "    </tr>\n",
       "    <tr>\n",
       "      <th>124</th>\n",
       "      <td>I am always full of life and energy.</td>\n",
       "      <td>Energy levels</td>\n",
       "    </tr>\n",
       "    <tr>\n",
       "      <th>125</th>\n",
       "      <td>I prefer big dangerous dogs to smaller, calmer...</td>\n",
       "      <td>Small - big dogs</td>\n",
       "    </tr>\n",
       "    <tr>\n",
       "      <th>126</th>\n",
       "      <td>I believe all my personality traits are positive.</td>\n",
       "      <td>Personality</td>\n",
       "    </tr>\n",
       "    <tr>\n",
       "      <th>127</th>\n",
       "      <td>If I find something the doesn't belong to me I...</td>\n",
       "      <td>Finding lost valuables</td>\n",
       "    </tr>\n",
       "    <tr>\n",
       "      <th>128</th>\n",
       "      <td>I find it very difficult to get up in the morn...</td>\n",
       "      <td>Getting up</td>\n",
       "    </tr>\n",
       "    <tr>\n",
       "      <th>129</th>\n",
       "      <td>I have many different hobbies and interests.</td>\n",
       "      <td>Interests or hobbies</td>\n",
       "    </tr>\n",
       "    <tr>\n",
       "      <th>130</th>\n",
       "      <td>I always listen to my parents' advice.</td>\n",
       "      <td>Parents' advice</td>\n",
       "    </tr>\n",
       "    <tr>\n",
       "      <th>131</th>\n",
       "      <td>I enjoy taking part in surveys.</td>\n",
       "      <td>Questionnaires or polls</td>\n",
       "    </tr>\n",
       "    <tr>\n",
       "      <th>132</th>\n",
       "      <td>How much time do you spend online?</td>\n",
       "      <td>Internet usage</td>\n",
       "    </tr>\n",
       "    <tr>\n",
       "      <th>133</th>\n",
       "      <td>I save all the money I can.</td>\n",
       "      <td>Finances</td>\n",
       "    </tr>\n",
       "    <tr>\n",
       "      <th>134</th>\n",
       "      <td>I enjoy going to large shopping centres.</td>\n",
       "      <td>Shopping centres</td>\n",
       "    </tr>\n",
       "    <tr>\n",
       "      <th>135</th>\n",
       "      <td>I prefer branded clothing to non branded.</td>\n",
       "      <td>Branded clothing</td>\n",
       "    </tr>\n",
       "    <tr>\n",
       "      <th>136</th>\n",
       "      <td>I spend a lot of money on  partying and social...</td>\n",
       "      <td>Entertainment spending</td>\n",
       "    </tr>\n",
       "    <tr>\n",
       "      <th>137</th>\n",
       "      <td>I spend a lot of money on my appearance.</td>\n",
       "      <td>Spending on looks</td>\n",
       "    </tr>\n",
       "    <tr>\n",
       "      <th>138</th>\n",
       "      <td>I spend a lot of money on gadgets.</td>\n",
       "      <td>Spending on gadgets</td>\n",
       "    </tr>\n",
       "    <tr>\n",
       "      <th>139</th>\n",
       "      <td>I will hapilly pay more money for good, qualit...</td>\n",
       "      <td>Spending on healthy eating</td>\n",
       "    </tr>\n",
       "    <tr>\n",
       "      <th>140</th>\n",
       "      <td>Age</td>\n",
       "      <td>Age</td>\n",
       "    </tr>\n",
       "    <tr>\n",
       "      <th>141</th>\n",
       "      <td>Height</td>\n",
       "      <td>Height</td>\n",
       "    </tr>\n",
       "    <tr>\n",
       "      <th>142</th>\n",
       "      <td>Weight</td>\n",
       "      <td>Weight</td>\n",
       "    </tr>\n",
       "    <tr>\n",
       "      <th>143</th>\n",
       "      <td>How many siblings do you have?</td>\n",
       "      <td>Number of siblings</td>\n",
       "    </tr>\n",
       "    <tr>\n",
       "      <th>144</th>\n",
       "      <td>Gender</td>\n",
       "      <td>Gender</td>\n",
       "    </tr>\n",
       "    <tr>\n",
       "      <th>145</th>\n",
       "      <td>I am</td>\n",
       "      <td>Left - right handed</td>\n",
       "    </tr>\n",
       "    <tr>\n",
       "      <th>146</th>\n",
       "      <td>Highest education achieved</td>\n",
       "      <td>Education</td>\n",
       "    </tr>\n",
       "    <tr>\n",
       "      <th>147</th>\n",
       "      <td>I am the only child</td>\n",
       "      <td>Only child</td>\n",
       "    </tr>\n",
       "    <tr>\n",
       "      <th>148</th>\n",
       "      <td>I spent most of my childhood in a</td>\n",
       "      <td>Village - town</td>\n",
       "    </tr>\n",
       "    <tr>\n",
       "      <th>149</th>\n",
       "      <td>I lived most of my childhood in a</td>\n",
       "      <td>House - block of flats</td>\n",
       "    </tr>\n",
       "  </tbody>\n",
       "</table>\n",
       "<p>150 rows × 2 columns</p>\n",
       "</div>"
      ],
      "text/plain": [
       "                                              original  \\\n",
       "0                          I enjoy listening to music.   \n",
       "1                                            I prefer.   \n",
       "2                                   Dance, Disco, Funk   \n",
       "3                                           Folk music   \n",
       "4                                              Country   \n",
       "5                                            Classical   \n",
       "6                                             Musicals   \n",
       "7                                                  Pop   \n",
       "8                                                 Rock   \n",
       "9                                     Metal, Hard rock   \n",
       "10                                                Punk   \n",
       "11                                        Hip hop, Rap   \n",
       "12                                         Reggae, Ska   \n",
       "13                                         Swing, Jazz   \n",
       "14                                         Rock n Roll   \n",
       "15                                   Alternative music   \n",
       "16                                               Latin   \n",
       "17                                      Techno, Trance   \n",
       "18                                               Opera   \n",
       "19                     I really enjoy watching movies.   \n",
       "20                                       Horror movies   \n",
       "21                                     Thriller movies   \n",
       "22                                            Comedies   \n",
       "23                                     Romantic movies   \n",
       "24                                       Sci-fi movies   \n",
       "25                                          War movies   \n",
       "26                                               Tales   \n",
       "27                                            Cartoons   \n",
       "28                                       Documentaries   \n",
       "29                                      Western movies   \n",
       "..                                                 ...   \n",
       "120  I have to be well prepared before public speak...   \n",
       "121  I will find a fault in myself if people don't ...   \n",
       "122  I cry when I feel down or things don't go the ...   \n",
       "123                      I am 100% happy with my life.   \n",
       "124               I am always full of life and energy.   \n",
       "125  I prefer big dangerous dogs to smaller, calmer...   \n",
       "126  I believe all my personality traits are positive.   \n",
       "127  If I find something the doesn't belong to me I...   \n",
       "128  I find it very difficult to get up in the morn...   \n",
       "129       I have many different hobbies and interests.   \n",
       "130             I always listen to my parents' advice.   \n",
       "131                    I enjoy taking part in surveys.   \n",
       "132                 How much time do you spend online?   \n",
       "133                        I save all the money I can.   \n",
       "134           I enjoy going to large shopping centres.   \n",
       "135          I prefer branded clothing to non branded.   \n",
       "136  I spend a lot of money on  partying and social...   \n",
       "137           I spend a lot of money on my appearance.   \n",
       "138                 I spend a lot of money on gadgets.   \n",
       "139  I will hapilly pay more money for good, qualit...   \n",
       "140                                                Age   \n",
       "141                                             Height   \n",
       "142                                             Weight   \n",
       "143                     How many siblings do you have?   \n",
       "144                                             Gender   \n",
       "145                                               I am   \n",
       "146                         Highest education achieved   \n",
       "147                                I am the only child   \n",
       "148                  I spent most of my childhood in a   \n",
       "149                  I lived most of my childhood in a   \n",
       "\n",
       "                          short  \n",
       "0                         Music  \n",
       "1      Slow songs or fast songs  \n",
       "2                         Dance  \n",
       "3                          Folk  \n",
       "4                       Country  \n",
       "5               Classical music  \n",
       "6                       Musical  \n",
       "7                           Pop  \n",
       "8                          Rock  \n",
       "9             Metal or Hardrock  \n",
       "10                         Punk  \n",
       "11                  Hiphop, Rap  \n",
       "12                  Reggae, Ska  \n",
       "13                  Swing, Jazz  \n",
       "14                  Rock n roll  \n",
       "15                  Alternative  \n",
       "16                       Latino  \n",
       "17               Techno, Trance  \n",
       "18                        Opera  \n",
       "19                       Movies  \n",
       "20                       Horror  \n",
       "21                     Thriller  \n",
       "22                       Comedy  \n",
       "23                     Romantic  \n",
       "24                       Sci-fi  \n",
       "25                          War  \n",
       "26          Fantasy/Fairy tales  \n",
       "27                     Animated  \n",
       "28                  Documentary  \n",
       "29                      Western  \n",
       "..                          ...  \n",
       "120             Public speaking  \n",
       "121                Unpopularity  \n",
       "122              Life struggles  \n",
       "123           Happiness in life  \n",
       "124               Energy levels  \n",
       "125            Small - big dogs  \n",
       "126                 Personality  \n",
       "127      Finding lost valuables  \n",
       "128                  Getting up  \n",
       "129        Interests or hobbies  \n",
       "130             Parents' advice  \n",
       "131     Questionnaires or polls  \n",
       "132              Internet usage  \n",
       "133                    Finances  \n",
       "134            Shopping centres  \n",
       "135            Branded clothing  \n",
       "136      Entertainment spending  \n",
       "137           Spending on looks  \n",
       "138         Spending on gadgets  \n",
       "139  Spending on healthy eating  \n",
       "140                         Age  \n",
       "141                      Height  \n",
       "142                      Weight  \n",
       "143          Number of siblings  \n",
       "144                      Gender  \n",
       "145         Left - right handed  \n",
       "146                   Education  \n",
       "147                  Only child  \n",
       "148              Village - town  \n",
       "149      House - block of flats  \n",
       "\n",
       "[150 rows x 2 columns]"
      ]
     },
     "execution_count": 28,
     "metadata": {},
     "output_type": "execute_result"
    }
   ],
   "source": [
    "columns = pd.read_csv('/Users/dashaepifanova/Desktop/columns.csv')\n",
    "columns"
   ]
  },
  {
   "cell_type": "markdown",
   "metadata": {},
   "source": [
    "### Предобработка данных "
   ]
  },
  {
   "cell_type": "markdown",
   "metadata": {},
   "source": [
    "Уберем все ненужное, конечно все нужно, но не нужно."
   ]
  },
  {
   "cell_type": "code",
   "execution_count": 29,
   "metadata": {
    "collapsed": true
   },
   "outputs": [],
   "source": [
    "data2 = data[[\"Happiness in life\", \"Age\",\"Height\", \"Gender\", \"Weight\", \n",
    "              \"Left - right handed\",\"Village - town\",\"Getting up\",\"God\",\n",
    "              \"Health\",\"Borrowed stuff\",\"Self-criticism\",\"Elections\", \n",
    "              \"Smoking\",\"Alcohol\",\"Number of friends\",\"Spending on healthy eating\",\n",
    "              \"Music\",\"Movies\",\"Friends versus money\",\"Changing the past\"]]"
   ]
  },
  {
   "cell_type": "code",
   "execution_count": 30,
   "metadata": {
    "scrolled": false
   },
   "outputs": [
    {
     "data": {
      "text/plain": [
       "Happiness in life              4\n",
       "Age                            7\n",
       "Height                        20\n",
       "Gender                         6\n",
       "Weight                        20\n",
       "Left - right handed            3\n",
       "Village - town                 4\n",
       "Getting up                     5\n",
       "God                            2\n",
       "Health                         1\n",
       "Borrowed stuff                 2\n",
       "Self-criticism                 5\n",
       "Elections                      3\n",
       "Smoking                        8\n",
       "Alcohol                        5\n",
       "Number of friends              0\n",
       "Spending on healthy eating     2\n",
       "Music                          3\n",
       "Movies                         6\n",
       "Friends versus money           6\n",
       "Changing the past              2\n",
       "dtype: int64"
      ]
     },
     "execution_count": 30,
     "metadata": {},
     "output_type": "execute_result"
    }
   ],
   "source": [
    "data2.isnull().sum()"
   ]
  },
  {
   "cell_type": "code",
   "execution_count": 31,
   "metadata": {
    "scrolled": false
   },
   "outputs": [
    {
     "data": {
      "text/plain": [
       "Happiness in life             0.003960\n",
       "Age                           0.006931\n",
       "Height                        0.019802\n",
       "Gender                        0.005941\n",
       "Weight                        0.019802\n",
       "Left - right handed           0.002970\n",
       "Village - town                0.003960\n",
       "Getting up                    0.004950\n",
       "God                           0.001980\n",
       "Health                        0.000990\n",
       "Borrowed stuff                0.001980\n",
       "Self-criticism                0.004950\n",
       "Elections                     0.002970\n",
       "Smoking                       0.007921\n",
       "Alcohol                       0.004950\n",
       "Number of friends             0.000000\n",
       "Spending on healthy eating    0.001980\n",
       "Music                         0.002970\n",
       "Movies                        0.005941\n",
       "Friends versus money          0.005941\n",
       "Changing the past             0.001980\n",
       "dtype: float64"
      ]
     },
     "execution_count": 31,
     "metadata": {},
     "output_type": "execute_result"
    }
   ],
   "source": [
    "data2.isnull().sum()/len(data)"
   ]
  },
  {
   "cell_type": "markdown",
   "metadata": {},
   "source": [
    "### Основная информация о переменных"
   ]
  },
  {
   "cell_type": "code",
   "execution_count": 32,
   "metadata": {
    "scrolled": false
   },
   "outputs": [
    {
     "name": "stdout",
     "output_type": "stream",
     "text": [
      "<class 'pandas.core.frame.DataFrame'>\n",
      "RangeIndex: 1010 entries, 0 to 1009\n",
      "Data columns (total 21 columns):\n",
      "Happiness in life             1006 non-null float64\n",
      "Age                           1003 non-null float64\n",
      "Height                        990 non-null float64\n",
      "Gender                        1004 non-null object\n",
      "Weight                        990 non-null float64\n",
      "Left - right handed           1007 non-null object\n",
      "Village - town                1006 non-null object\n",
      "Getting up                    1005 non-null float64\n",
      "God                           1008 non-null float64\n",
      "Health                        1009 non-null float64\n",
      "Borrowed stuff                1008 non-null float64\n",
      "Self-criticism                1005 non-null float64\n",
      "Elections                     1007 non-null float64\n",
      "Smoking                       1002 non-null object\n",
      "Alcohol                       1005 non-null object\n",
      "Number of friends             1010 non-null int64\n",
      "Spending on healthy eating    1008 non-null float64\n",
      "Music                         1007 non-null float64\n",
      "Movies                        1004 non-null float64\n",
      "Friends versus money          1004 non-null float64\n",
      "Changing the past             1008 non-null float64\n",
      "dtypes: float64(15), int64(1), object(5)\n",
      "memory usage: 165.8+ KB\n"
     ]
    }
   ],
   "source": [
    "data2.info()"
   ]
  },
  {
   "cell_type": "code",
   "execution_count": 33,
   "metadata": {
    "collapsed": true
   },
   "outputs": [],
   "source": [
    "target_var = 'Happiness in life'  # переменная, которую мы будем прогнозировать\n",
    "\n",
    "categor_var = ['Gender','Left - right handed', 'Village - town','Smoking',\n",
    "               'Alcohol','Getting up','God','Health','Borrowed stuff',\n",
    "               'Self-criticism','Elections','Spending on healthy eating',\n",
    "               'Music','Movies','Friends versus money','Changing the past'] # категориальные \n",
    "contin_var = ['Number of friends','Age', 'Height','Weight']  # непрерывные"
   ]
  },
  {
   "cell_type": "code",
   "execution_count": 34,
   "metadata": {
    "collapsed": true
   },
   "outputs": [],
   "source": [
    "data2 = data2.dropna(subset=['Happiness in life'])#избавимся от пропусков в целевой переменной"
   ]
  },
  {
   "cell_type": "code",
   "execution_count": 35,
   "metadata": {},
   "outputs": [
    {
     "data": {
      "text/plain": [
       "Happiness in life             0.000000\n",
       "Age                           0.006931\n",
       "Height                        0.019802\n",
       "Gender                        0.005941\n",
       "Weight                        0.019802\n",
       "Left - right handed           0.002970\n",
       "Village - town                0.003960\n",
       "Getting up                    0.004950\n",
       "God                           0.000990\n",
       "Health                        0.000990\n",
       "Borrowed stuff                0.001980\n",
       "Self-criticism                0.004950\n",
       "Elections                     0.002970\n",
       "Smoking                       0.007921\n",
       "Alcohol                       0.004950\n",
       "Number of friends             0.000000\n",
       "Spending on healthy eating    0.001980\n",
       "Music                         0.002970\n",
       "Movies                        0.005941\n",
       "Friends versus money          0.005941\n",
       "Changing the past             0.001980\n",
       "dtype: float64"
      ]
     },
     "execution_count": 35,
     "metadata": {},
     "output_type": "execute_result"
    }
   ],
   "source": [
    "data2.isnull().sum()/len(data)"
   ]
  },
  {
   "cell_type": "markdown",
   "metadata": {},
   "source": [
    "Итого у нас 16 категориальных и 4 непрерывных. Заполним пропуски. "
   ]
  },
  {
   "cell_type": "markdown",
   "metadata": {},
   "source": [
    "### Непрерывные переменные"
   ]
  },
  {
   "cell_type": "code",
   "execution_count": 36,
   "metadata": {
    "collapsed": true
   },
   "outputs": [],
   "source": [
    "data2[contin_var] = data2[contin_var].fillna(data2[contin_var].mean()) #заполняем средним сразу все непрервные"
   ]
  },
  {
   "cell_type": "code",
   "execution_count": 37,
   "metadata": {
    "scrolled": true
   },
   "outputs": [
    {
     "data": {
      "text/plain": [
       "Number of friends    0\n",
       "Age                  0\n",
       "Height               0\n",
       "Weight               0\n",
       "dtype: int64"
      ]
     },
     "execution_count": 37,
     "metadata": {},
     "output_type": "execute_result"
    }
   ],
   "source": [
    "data2[contin_var].isnull().sum()"
   ]
  },
  {
   "cell_type": "markdown",
   "metadata": {},
   "source": [
    "### Категориальные переменные"
   ]
  },
  {
   "cell_type": "code",
   "execution_count": 38,
   "metadata": {},
   "outputs": [
    {
     "data": {
      "text/html": [
       "<div>\n",
       "<style scoped>\n",
       "    .dataframe tbody tr th:only-of-type {\n",
       "        vertical-align: middle;\n",
       "    }\n",
       "\n",
       "    .dataframe tbody tr th {\n",
       "        vertical-align: top;\n",
       "    }\n",
       "\n",
       "    .dataframe thead th {\n",
       "        text-align: right;\n",
       "    }\n",
       "</style>\n",
       "<table border=\"1\" class=\"dataframe\">\n",
       "  <thead>\n",
       "    <tr style=\"text-align: right;\">\n",
       "      <th></th>\n",
       "      <th>Gender</th>\n",
       "      <th>Left - right handed</th>\n",
       "      <th>Village - town</th>\n",
       "      <th>Smoking</th>\n",
       "      <th>Alcohol</th>\n",
       "      <th>Getting up</th>\n",
       "      <th>God</th>\n",
       "      <th>Health</th>\n",
       "      <th>Borrowed stuff</th>\n",
       "      <th>Self-criticism</th>\n",
       "      <th>Elections</th>\n",
       "      <th>Spending on healthy eating</th>\n",
       "      <th>Music</th>\n",
       "      <th>Movies</th>\n",
       "      <th>Friends versus money</th>\n",
       "      <th>Changing the past</th>\n",
       "    </tr>\n",
       "  </thead>\n",
       "  <tbody>\n",
       "    <tr>\n",
       "      <th>0</th>\n",
       "      <td>female</td>\n",
       "      <td>right handed</td>\n",
       "      <td>city</td>\n",
       "      <td>tried smoking</td>\n",
       "      <td>social drinker</td>\n",
       "      <td>5.0</td>\n",
       "      <td>5.0</td>\n",
       "      <td>3.0</td>\n",
       "      <td>5.0</td>\n",
       "      <td>5.0</td>\n",
       "      <td>5.0</td>\n",
       "      <td>4.0</td>\n",
       "      <td>5.0</td>\n",
       "      <td>5.0</td>\n",
       "      <td>5.0</td>\n",
       "      <td>3.0</td>\n",
       "    </tr>\n",
       "  </tbody>\n",
       "</table>\n",
       "</div>"
      ],
      "text/plain": [
       "   Gender Left - right handed Village - town        Smoking         Alcohol  \\\n",
       "0  female        right handed           city  tried smoking  social drinker   \n",
       "\n",
       "   Getting up  God  Health  Borrowed stuff  Self-criticism  Elections  \\\n",
       "0         5.0  5.0     3.0             5.0             5.0        5.0   \n",
       "\n",
       "   Spending on healthy eating  Music  Movies  Friends versus money  \\\n",
       "0                         4.0    5.0     5.0                   5.0   \n",
       "\n",
       "   Changing the past  \n",
       "0                3.0  "
      ]
     },
     "execution_count": 38,
     "metadata": {},
     "output_type": "execute_result"
    }
   ],
   "source": [
    "data2[categor_var].mode()"
   ]
  },
  {
   "cell_type": "code",
   "execution_count": 39,
   "metadata": {
    "collapsed": true
   },
   "outputs": [],
   "source": [
    "for category in categor_var:\n",
    "    data2[category] = data2[category].fillna(data2[category].mode()[0])"
   ]
  },
  {
   "cell_type": "code",
   "execution_count": 40,
   "metadata": {},
   "outputs": [
    {
     "data": {
      "text/plain": [
       "Gender                        0\n",
       "Left - right handed           0\n",
       "Village - town                0\n",
       "Smoking                       0\n",
       "Alcohol                       0\n",
       "Getting up                    0\n",
       "God                           0\n",
       "Health                        0\n",
       "Borrowed stuff                0\n",
       "Self-criticism                0\n",
       "Elections                     0\n",
       "Spending on healthy eating    0\n",
       "Music                         0\n",
       "Movies                        0\n",
       "Friends versus money          0\n",
       "Changing the past             0\n",
       "dtype: int64"
      ]
     },
     "execution_count": 40,
     "metadata": {},
     "output_type": "execute_result"
    }
   ],
   "source": [
    "data2[categor_var].isnull().sum()"
   ]
  },
  {
   "cell_type": "code",
   "execution_count": 41,
   "metadata": {
    "collapsed": true
   },
   "outputs": [],
   "source": [
    "data2['Height'].fillna(data2['Height'].mean(), inplace = True)"
   ]
  },
  {
   "cell_type": "code",
   "execution_count": 42,
   "metadata": {
    "collapsed": true
   },
   "outputs": [],
   "source": [
    "data2['Weight'].fillna(data2['Weight'].mean(), inplace = True)"
   ]
  },
  {
   "cell_type": "code",
   "execution_count": 43,
   "metadata": {
    "collapsed": true
   },
   "outputs": [],
   "source": [
    "data2['Age'].fillna(data2['Age'].mean(), inplace = True)"
   ]
  },
  {
   "cell_type": "code",
   "execution_count": 44,
   "metadata": {},
   "outputs": [
    {
     "data": {
      "text/html": [
       "<div>\n",
       "<style scoped>\n",
       "    .dataframe tbody tr th:only-of-type {\n",
       "        vertical-align: middle;\n",
       "    }\n",
       "\n",
       "    .dataframe tbody tr th {\n",
       "        vertical-align: top;\n",
       "    }\n",
       "\n",
       "    .dataframe thead th {\n",
       "        text-align: right;\n",
       "    }\n",
       "</style>\n",
       "<table border=\"1\" class=\"dataframe\">\n",
       "  <thead>\n",
       "    <tr style=\"text-align: right;\">\n",
       "      <th></th>\n",
       "      <th>Gender</th>\n",
       "      <th>Left - right handed</th>\n",
       "      <th>Village - town</th>\n",
       "      <th>Smoking</th>\n",
       "      <th>Alcohol</th>\n",
       "      <th>Getting up</th>\n",
       "      <th>God</th>\n",
       "      <th>Health</th>\n",
       "      <th>Borrowed stuff</th>\n",
       "      <th>Self-criticism</th>\n",
       "      <th>Elections</th>\n",
       "      <th>Spending on healthy eating</th>\n",
       "      <th>Music</th>\n",
       "      <th>Movies</th>\n",
       "      <th>Friends versus money</th>\n",
       "      <th>Changing the past</th>\n",
       "    </tr>\n",
       "  </thead>\n",
       "  <tbody>\n",
       "    <tr>\n",
       "      <th>0</th>\n",
       "      <td>female</td>\n",
       "      <td>right handed</td>\n",
       "      <td>village</td>\n",
       "      <td>never smoked</td>\n",
       "      <td>drink a lot</td>\n",
       "      <td>2.0</td>\n",
       "      <td>1.0</td>\n",
       "      <td>1.0</td>\n",
       "      <td>4.0</td>\n",
       "      <td>1.0</td>\n",
       "      <td>4.0</td>\n",
       "      <td>3.0</td>\n",
       "      <td>5.0</td>\n",
       "      <td>5.0</td>\n",
       "      <td>3.0</td>\n",
       "      <td>1.0</td>\n",
       "    </tr>\n",
       "    <tr>\n",
       "      <th>1</th>\n",
       "      <td>female</td>\n",
       "      <td>right handed</td>\n",
       "      <td>city</td>\n",
       "      <td>never smoked</td>\n",
       "      <td>drink a lot</td>\n",
       "      <td>5.0</td>\n",
       "      <td>1.0</td>\n",
       "      <td>4.0</td>\n",
       "      <td>3.0</td>\n",
       "      <td>4.0</td>\n",
       "      <td>5.0</td>\n",
       "      <td>2.0</td>\n",
       "      <td>4.0</td>\n",
       "      <td>5.0</td>\n",
       "      <td>4.0</td>\n",
       "      <td>4.0</td>\n",
       "    </tr>\n",
       "    <tr>\n",
       "      <th>2</th>\n",
       "      <td>female</td>\n",
       "      <td>right handed</td>\n",
       "      <td>city</td>\n",
       "      <td>tried smoking</td>\n",
       "      <td>drink a lot</td>\n",
       "      <td>4.0</td>\n",
       "      <td>5.0</td>\n",
       "      <td>2.0</td>\n",
       "      <td>2.0</td>\n",
       "      <td>4.0</td>\n",
       "      <td>5.0</td>\n",
       "      <td>2.0</td>\n",
       "      <td>5.0</td>\n",
       "      <td>5.0</td>\n",
       "      <td>5.0</td>\n",
       "      <td>5.0</td>\n",
       "    </tr>\n",
       "    <tr>\n",
       "      <th>3</th>\n",
       "      <td>female</td>\n",
       "      <td>right handed</td>\n",
       "      <td>city</td>\n",
       "      <td>former smoker</td>\n",
       "      <td>drink a lot</td>\n",
       "      <td>1.0</td>\n",
       "      <td>4.0</td>\n",
       "      <td>1.0</td>\n",
       "      <td>5.0</td>\n",
       "      <td>5.0</td>\n",
       "      <td>5.0</td>\n",
       "      <td>1.0</td>\n",
       "      <td>5.0</td>\n",
       "      <td>5.0</td>\n",
       "      <td>2.0</td>\n",
       "      <td>5.0</td>\n",
       "    </tr>\n",
       "    <tr>\n",
       "      <th>4</th>\n",
       "      <td>female</td>\n",
       "      <td>right handed</td>\n",
       "      <td>village</td>\n",
       "      <td>tried smoking</td>\n",
       "      <td>social drinker</td>\n",
       "      <td>4.0</td>\n",
       "      <td>5.0</td>\n",
       "      <td>3.0</td>\n",
       "      <td>4.0</td>\n",
       "      <td>5.0</td>\n",
       "      <td>5.0</td>\n",
       "      <td>4.0</td>\n",
       "      <td>5.0</td>\n",
       "      <td>5.0</td>\n",
       "      <td>3.0</td>\n",
       "      <td>4.0</td>\n",
       "    </tr>\n",
       "  </tbody>\n",
       "</table>\n",
       "</div>"
      ],
      "text/plain": [
       "   Gender Left - right handed Village - town        Smoking         Alcohol  \\\n",
       "0  female        right handed        village   never smoked     drink a lot   \n",
       "1  female        right handed           city   never smoked     drink a lot   \n",
       "2  female        right handed           city  tried smoking     drink a lot   \n",
       "3  female        right handed           city  former smoker     drink a lot   \n",
       "4  female        right handed        village  tried smoking  social drinker   \n",
       "\n",
       "   Getting up  God  Health  Borrowed stuff  Self-criticism  Elections  \\\n",
       "0         2.0  1.0     1.0             4.0             1.0        4.0   \n",
       "1         5.0  1.0     4.0             3.0             4.0        5.0   \n",
       "2         4.0  5.0     2.0             2.0             4.0        5.0   \n",
       "3         1.0  4.0     1.0             5.0             5.0        5.0   \n",
       "4         4.0  5.0     3.0             4.0             5.0        5.0   \n",
       "\n",
       "   Spending on healthy eating  Music  Movies  Friends versus money  \\\n",
       "0                         3.0    5.0     5.0                   3.0   \n",
       "1                         2.0    4.0     5.0                   4.0   \n",
       "2                         2.0    5.0     5.0                   5.0   \n",
       "3                         1.0    5.0     5.0                   2.0   \n",
       "4                         4.0    5.0     5.0                   3.0   \n",
       "\n",
       "   Changing the past  \n",
       "0                1.0  \n",
       "1                4.0  \n",
       "2                5.0  \n",
       "3                5.0  \n",
       "4                4.0  "
      ]
     },
     "execution_count": 44,
     "metadata": {},
     "output_type": "execute_result"
    }
   ],
   "source": [
    "data2[categor_var].head()  # Надо заменить все категории на числа."
   ]
  },
  {
   "cell_type": "code",
   "execution_count": 45,
   "metadata": {},
   "outputs": [
    {
     "data": {
      "text/html": [
       "<div>\n",
       "<style scoped>\n",
       "    .dataframe tbody tr th:only-of-type {\n",
       "        vertical-align: middle;\n",
       "    }\n",
       "\n",
       "    .dataframe tbody tr th {\n",
       "        vertical-align: top;\n",
       "    }\n",
       "\n",
       "    .dataframe thead th {\n",
       "        text-align: right;\n",
       "    }\n",
       "</style>\n",
       "<table border=\"1\" class=\"dataframe\">\n",
       "  <thead>\n",
       "    <tr style=\"text-align: right;\">\n",
       "      <th></th>\n",
       "      <th>Getting up</th>\n",
       "      <th>God</th>\n",
       "      <th>Health</th>\n",
       "      <th>Borrowed stuff</th>\n",
       "      <th>Self-criticism</th>\n",
       "      <th>Elections</th>\n",
       "      <th>Spending on healthy eating</th>\n",
       "      <th>Music</th>\n",
       "      <th>Movies</th>\n",
       "      <th>Friends versus money</th>\n",
       "      <th>...</th>\n",
       "      <th>Left - right handed_nan</th>\n",
       "      <th>Village - town_village</th>\n",
       "      <th>Village - town_nan</th>\n",
       "      <th>Smoking_former smoker</th>\n",
       "      <th>Smoking_never smoked</th>\n",
       "      <th>Smoking_tried smoking</th>\n",
       "      <th>Smoking_nan</th>\n",
       "      <th>Alcohol_never</th>\n",
       "      <th>Alcohol_social drinker</th>\n",
       "      <th>Alcohol_nan</th>\n",
       "    </tr>\n",
       "  </thead>\n",
       "  <tbody>\n",
       "    <tr>\n",
       "      <th>0</th>\n",
       "      <td>2.0</td>\n",
       "      <td>1.0</td>\n",
       "      <td>1.0</td>\n",
       "      <td>4.0</td>\n",
       "      <td>1.0</td>\n",
       "      <td>4.0</td>\n",
       "      <td>3.0</td>\n",
       "      <td>5.0</td>\n",
       "      <td>5.0</td>\n",
       "      <td>3.0</td>\n",
       "      <td>...</td>\n",
       "      <td>0</td>\n",
       "      <td>1</td>\n",
       "      <td>0</td>\n",
       "      <td>0</td>\n",
       "      <td>1</td>\n",
       "      <td>0</td>\n",
       "      <td>0</td>\n",
       "      <td>0</td>\n",
       "      <td>0</td>\n",
       "      <td>0</td>\n",
       "    </tr>\n",
       "    <tr>\n",
       "      <th>1</th>\n",
       "      <td>5.0</td>\n",
       "      <td>1.0</td>\n",
       "      <td>4.0</td>\n",
       "      <td>3.0</td>\n",
       "      <td>4.0</td>\n",
       "      <td>5.0</td>\n",
       "      <td>2.0</td>\n",
       "      <td>4.0</td>\n",
       "      <td>5.0</td>\n",
       "      <td>4.0</td>\n",
       "      <td>...</td>\n",
       "      <td>0</td>\n",
       "      <td>0</td>\n",
       "      <td>0</td>\n",
       "      <td>0</td>\n",
       "      <td>1</td>\n",
       "      <td>0</td>\n",
       "      <td>0</td>\n",
       "      <td>0</td>\n",
       "      <td>0</td>\n",
       "      <td>0</td>\n",
       "    </tr>\n",
       "    <tr>\n",
       "      <th>2</th>\n",
       "      <td>4.0</td>\n",
       "      <td>5.0</td>\n",
       "      <td>2.0</td>\n",
       "      <td>2.0</td>\n",
       "      <td>4.0</td>\n",
       "      <td>5.0</td>\n",
       "      <td>2.0</td>\n",
       "      <td>5.0</td>\n",
       "      <td>5.0</td>\n",
       "      <td>5.0</td>\n",
       "      <td>...</td>\n",
       "      <td>0</td>\n",
       "      <td>0</td>\n",
       "      <td>0</td>\n",
       "      <td>0</td>\n",
       "      <td>0</td>\n",
       "      <td>1</td>\n",
       "      <td>0</td>\n",
       "      <td>0</td>\n",
       "      <td>0</td>\n",
       "      <td>0</td>\n",
       "    </tr>\n",
       "    <tr>\n",
       "      <th>3</th>\n",
       "      <td>1.0</td>\n",
       "      <td>4.0</td>\n",
       "      <td>1.0</td>\n",
       "      <td>5.0</td>\n",
       "      <td>5.0</td>\n",
       "      <td>5.0</td>\n",
       "      <td>1.0</td>\n",
       "      <td>5.0</td>\n",
       "      <td>5.0</td>\n",
       "      <td>2.0</td>\n",
       "      <td>...</td>\n",
       "      <td>0</td>\n",
       "      <td>0</td>\n",
       "      <td>0</td>\n",
       "      <td>1</td>\n",
       "      <td>0</td>\n",
       "      <td>0</td>\n",
       "      <td>0</td>\n",
       "      <td>0</td>\n",
       "      <td>0</td>\n",
       "      <td>0</td>\n",
       "    </tr>\n",
       "    <tr>\n",
       "      <th>4</th>\n",
       "      <td>4.0</td>\n",
       "      <td>5.0</td>\n",
       "      <td>3.0</td>\n",
       "      <td>4.0</td>\n",
       "      <td>5.0</td>\n",
       "      <td>5.0</td>\n",
       "      <td>4.0</td>\n",
       "      <td>5.0</td>\n",
       "      <td>5.0</td>\n",
       "      <td>3.0</td>\n",
       "      <td>...</td>\n",
       "      <td>0</td>\n",
       "      <td>1</td>\n",
       "      <td>0</td>\n",
       "      <td>0</td>\n",
       "      <td>0</td>\n",
       "      <td>1</td>\n",
       "      <td>0</td>\n",
       "      <td>0</td>\n",
       "      <td>1</td>\n",
       "      <td>0</td>\n",
       "    </tr>\n",
       "  </tbody>\n",
       "</table>\n",
       "<p>5 rows × 24 columns</p>\n",
       "</div>"
      ],
      "text/plain": [
       "   Getting up  God  Health  Borrowed stuff  Self-criticism  Elections  \\\n",
       "0         2.0  1.0     1.0             4.0             1.0        4.0   \n",
       "1         5.0  1.0     4.0             3.0             4.0        5.0   \n",
       "2         4.0  5.0     2.0             2.0             4.0        5.0   \n",
       "3         1.0  4.0     1.0             5.0             5.0        5.0   \n",
       "4         4.0  5.0     3.0             4.0             5.0        5.0   \n",
       "\n",
       "   Spending on healthy eating  Music  Movies  Friends versus money  \\\n",
       "0                         3.0    5.0     5.0                   3.0   \n",
       "1                         2.0    4.0     5.0                   4.0   \n",
       "2                         2.0    5.0     5.0                   5.0   \n",
       "3                         1.0    5.0     5.0                   2.0   \n",
       "4                         4.0    5.0     5.0                   3.0   \n",
       "\n",
       "      ...       Left - right handed_nan  Village - town_village  \\\n",
       "0     ...                             0                       1   \n",
       "1     ...                             0                       0   \n",
       "2     ...                             0                       0   \n",
       "3     ...                             0                       0   \n",
       "4     ...                             0                       1   \n",
       "\n",
       "   Village - town_nan  Smoking_former smoker  Smoking_never smoked  \\\n",
       "0                   0                      0                     1   \n",
       "1                   0                      0                     1   \n",
       "2                   0                      0                     0   \n",
       "3                   0                      1                     0   \n",
       "4                   0                      0                     0   \n",
       "\n",
       "   Smoking_tried smoking  Smoking_nan  Alcohol_never  Alcohol_social drinker  \\\n",
       "0                      0            0              0                       0   \n",
       "1                      0            0              0                       0   \n",
       "2                      1            0              0                       0   \n",
       "3                      0            0              0                       0   \n",
       "4                      1            0              0                       1   \n",
       "\n",
       "   Alcohol_nan  \n",
       "0            0  \n",
       "1            0  \n",
       "2            0  \n",
       "3            0  \n",
       "4            0  \n",
       "\n",
       "[5 rows x 24 columns]"
      ]
     },
     "execution_count": 45,
     "metadata": {},
     "output_type": "execute_result"
    }
   ],
   "source": [
    "data2_categor = pd.get_dummies(data2[categor_var], dummy_na=True, drop_first=True) #осторожно, очень горячее кодирование\n",
    "data2_categor.head()"
   ]
  },
  {
   "cell_type": "code",
   "execution_count": 46,
   "metadata": {},
   "outputs": [
    {
     "data": {
      "text/plain": [
       "Happiness in life             0\n",
       "Age                           0\n",
       "Height                        0\n",
       "Gender                        0\n",
       "Weight                        0\n",
       "Left - right handed           0\n",
       "Village - town                0\n",
       "Getting up                    0\n",
       "God                           0\n",
       "Health                        0\n",
       "Borrowed stuff                0\n",
       "Self-criticism                0\n",
       "Elections                     0\n",
       "Smoking                       0\n",
       "Alcohol                       0\n",
       "Number of friends             0\n",
       "Spending on healthy eating    0\n",
       "Music                         0\n",
       "Movies                        0\n",
       "Friends versus money          0\n",
       "Changing the past             0\n",
       "dtype: int64"
      ]
     },
     "execution_count": 46,
     "metadata": {},
     "output_type": "execute_result"
    }
   ],
   "source": [
    "data2.isnull().sum()"
   ]
  },
  {
   "cell_type": "markdown",
   "metadata": {},
   "source": [
    "Всё, пропусков нет, можно приступать к моделированию."
   ]
  },
  {
   "cell_type": "code",
   "execution_count": 47,
   "metadata": {},
   "outputs": [
    {
     "data": {
      "text/html": [
       "<div>\n",
       "<style scoped>\n",
       "    .dataframe tbody tr th:only-of-type {\n",
       "        vertical-align: middle;\n",
       "    }\n",
       "\n",
       "    .dataframe tbody tr th {\n",
       "        vertical-align: top;\n",
       "    }\n",
       "\n",
       "    .dataframe thead th {\n",
       "        text-align: right;\n",
       "    }\n",
       "</style>\n",
       "<table border=\"1\" class=\"dataframe\">\n",
       "  <thead>\n",
       "    <tr style=\"text-align: right;\">\n",
       "      <th></th>\n",
       "      <th>Happiness in life</th>\n",
       "      <th>Number of friends</th>\n",
       "      <th>Age</th>\n",
       "      <th>Height</th>\n",
       "      <th>Weight</th>\n",
       "      <th>Getting up</th>\n",
       "      <th>God</th>\n",
       "      <th>Health</th>\n",
       "      <th>Borrowed stuff</th>\n",
       "      <th>Self-criticism</th>\n",
       "      <th>...</th>\n",
       "      <th>Left - right handed_nan</th>\n",
       "      <th>Village - town_village</th>\n",
       "      <th>Village - town_nan</th>\n",
       "      <th>Smoking_former smoker</th>\n",
       "      <th>Smoking_never smoked</th>\n",
       "      <th>Smoking_tried smoking</th>\n",
       "      <th>Smoking_nan</th>\n",
       "      <th>Alcohol_never</th>\n",
       "      <th>Alcohol_social drinker</th>\n",
       "      <th>Alcohol_nan</th>\n",
       "    </tr>\n",
       "  </thead>\n",
       "  <tbody>\n",
       "    <tr>\n",
       "      <th>0</th>\n",
       "      <td>4.0</td>\n",
       "      <td>3</td>\n",
       "      <td>20.0</td>\n",
       "      <td>163.0</td>\n",
       "      <td>48.0</td>\n",
       "      <td>2.0</td>\n",
       "      <td>1.0</td>\n",
       "      <td>1.0</td>\n",
       "      <td>4.0</td>\n",
       "      <td>1.0</td>\n",
       "      <td>...</td>\n",
       "      <td>0</td>\n",
       "      <td>1</td>\n",
       "      <td>0</td>\n",
       "      <td>0</td>\n",
       "      <td>1</td>\n",
       "      <td>0</td>\n",
       "      <td>0</td>\n",
       "      <td>0</td>\n",
       "      <td>0</td>\n",
       "      <td>0</td>\n",
       "    </tr>\n",
       "    <tr>\n",
       "      <th>1</th>\n",
       "      <td>4.0</td>\n",
       "      <td>3</td>\n",
       "      <td>19.0</td>\n",
       "      <td>163.0</td>\n",
       "      <td>58.0</td>\n",
       "      <td>5.0</td>\n",
       "      <td>1.0</td>\n",
       "      <td>4.0</td>\n",
       "      <td>3.0</td>\n",
       "      <td>4.0</td>\n",
       "      <td>...</td>\n",
       "      <td>0</td>\n",
       "      <td>0</td>\n",
       "      <td>0</td>\n",
       "      <td>0</td>\n",
       "      <td>1</td>\n",
       "      <td>0</td>\n",
       "      <td>0</td>\n",
       "      <td>0</td>\n",
       "      <td>0</td>\n",
       "      <td>0</td>\n",
       "    </tr>\n",
       "    <tr>\n",
       "      <th>2</th>\n",
       "      <td>4.0</td>\n",
       "      <td>3</td>\n",
       "      <td>20.0</td>\n",
       "      <td>176.0</td>\n",
       "      <td>67.0</td>\n",
       "      <td>4.0</td>\n",
       "      <td>5.0</td>\n",
       "      <td>2.0</td>\n",
       "      <td>2.0</td>\n",
       "      <td>4.0</td>\n",
       "      <td>...</td>\n",
       "      <td>0</td>\n",
       "      <td>0</td>\n",
       "      <td>0</td>\n",
       "      <td>0</td>\n",
       "      <td>0</td>\n",
       "      <td>1</td>\n",
       "      <td>0</td>\n",
       "      <td>0</td>\n",
       "      <td>0</td>\n",
       "      <td>0</td>\n",
       "    </tr>\n",
       "    <tr>\n",
       "      <th>3</th>\n",
       "      <td>2.0</td>\n",
       "      <td>1</td>\n",
       "      <td>22.0</td>\n",
       "      <td>172.0</td>\n",
       "      <td>59.0</td>\n",
       "      <td>1.0</td>\n",
       "      <td>4.0</td>\n",
       "      <td>1.0</td>\n",
       "      <td>5.0</td>\n",
       "      <td>5.0</td>\n",
       "      <td>...</td>\n",
       "      <td>0</td>\n",
       "      <td>0</td>\n",
       "      <td>0</td>\n",
       "      <td>1</td>\n",
       "      <td>0</td>\n",
       "      <td>0</td>\n",
       "      <td>0</td>\n",
       "      <td>0</td>\n",
       "      <td>0</td>\n",
       "      <td>0</td>\n",
       "    </tr>\n",
       "    <tr>\n",
       "      <th>4</th>\n",
       "      <td>3.0</td>\n",
       "      <td>3</td>\n",
       "      <td>20.0</td>\n",
       "      <td>170.0</td>\n",
       "      <td>59.0</td>\n",
       "      <td>4.0</td>\n",
       "      <td>5.0</td>\n",
       "      <td>3.0</td>\n",
       "      <td>4.0</td>\n",
       "      <td>5.0</td>\n",
       "      <td>...</td>\n",
       "      <td>0</td>\n",
       "      <td>1</td>\n",
       "      <td>0</td>\n",
       "      <td>0</td>\n",
       "      <td>0</td>\n",
       "      <td>1</td>\n",
       "      <td>0</td>\n",
       "      <td>0</td>\n",
       "      <td>1</td>\n",
       "      <td>0</td>\n",
       "    </tr>\n",
       "  </tbody>\n",
       "</table>\n",
       "<p>5 rows × 29 columns</p>\n",
       "</div>"
      ],
      "text/plain": [
       "   Happiness in life  Number of friends   Age  Height  Weight  Getting up  \\\n",
       "0                4.0                  3  20.0   163.0    48.0         2.0   \n",
       "1                4.0                  3  19.0   163.0    58.0         5.0   \n",
       "2                4.0                  3  20.0   176.0    67.0         4.0   \n",
       "3                2.0                  1  22.0   172.0    59.0         1.0   \n",
       "4                3.0                  3  20.0   170.0    59.0         4.0   \n",
       "\n",
       "   God  Health  Borrowed stuff  Self-criticism     ...       \\\n",
       "0  1.0     1.0             4.0             1.0     ...        \n",
       "1  1.0     4.0             3.0             4.0     ...        \n",
       "2  5.0     2.0             2.0             4.0     ...        \n",
       "3  4.0     1.0             5.0             5.0     ...        \n",
       "4  5.0     3.0             4.0             5.0     ...        \n",
       "\n",
       "   Left - right handed_nan  Village - town_village  Village - town_nan  \\\n",
       "0                        0                       1                   0   \n",
       "1                        0                       0                   0   \n",
       "2                        0                       0                   0   \n",
       "3                        0                       0                   0   \n",
       "4                        0                       1                   0   \n",
       "\n",
       "   Smoking_former smoker  Smoking_never smoked  Smoking_tried smoking  \\\n",
       "0                      0                     1                      0   \n",
       "1                      0                     1                      0   \n",
       "2                      0                     0                      1   \n",
       "3                      1                     0                      0   \n",
       "4                      0                     0                      1   \n",
       "\n",
       "   Smoking_nan  Alcohol_never  Alcohol_social drinker  Alcohol_nan  \n",
       "0            0              0                       0            0  \n",
       "1            0              0                       0            0  \n",
       "2            0              0                       0            0  \n",
       "3            0              0                       0            0  \n",
       "4            0              0                       1            0  \n",
       "\n",
       "[5 rows x 29 columns]"
      ]
     },
     "execution_count": 47,
     "metadata": {},
     "output_type": "execute_result"
    }
   ],
   "source": [
    "#cливаем все наши таблички в одну общую\n",
    "data2 = pd.concat([data2[target_var],data2[contin_var],data2_categor], axis=1)\n",
    "data2.head()"
   ]
  },
  {
   "cell_type": "markdown",
   "metadata": {},
   "source": [
    "### Моделирование"
   ]
  },
  {
   "cell_type": "markdown",
   "metadata": {},
   "source": [
    "Посмотрим на распределение признаков и матрицу корреляций. Может что-нибудь заметим."
   ]
  },
  {
   "cell_type": "code",
   "execution_count": 48,
   "metadata": {
    "scrolled": false
   },
   "outputs": [
    {
     "data": {
      "image/png": "[encoded data removed]",
      "text/plain": [
       "<matplotlib.figure.Figure at 0x1a1588a668>"
      ]
     },
     "metadata": {},
     "output_type": "display_data"
    }
   ],
   "source": [
    "data2.drop('Happiness in life',axis=1).hist(figsize=(20, 12));"
   ]
  },
  {
   "cell_type": "markdown",
   "metadata": {},
   "source": [
    "## Комментарий\n",
    "кстати, круто, что на корреляции видно, что число друзей положительно с нашей целевой переменной скоррелировано, похоже, надо заводить побольше :3"
   ]
  },
  {
   "cell_type": "code",
   "execution_count": 49,
   "metadata": {},
   "outputs": [
    {
     "data": {
      "image/png": "[encoded data removed]",
      "text/plain": [
       "<matplotlib.figure.Figure at 0x1a1feef908>"
      ]
     },
     "metadata": {},
     "output_type": "display_data"
    }
   ],
   "source": [
    "plt.figure(figsize=(12, 10))\n",
    "sns.heatmap(data2.corr());"
   ]
  },
  {
   "cell_type": "markdown",
   "metadata": {},
   "source": [
    "Возможно, мы сможем узнать секрет счастья."
   ]
  },
  {
   "cell_type": "code",
   "execution_count": 50,
   "metadata": {
    "collapsed": true
   },
   "outputs": [],
   "source": [
    "#Разбиение выборки. Делим данные на тренировочные и тестовые.\n",
    "\n",
    "from sklearn.model_selection import train_test_split\n",
    "data2_train, data2_test = train_test_split(data2, test_size = 0.3)\n",
    "\n",
    "y_train = data2_train['Happiness in life']\n",
    "y_test = data2_test['Happiness in life']\n",
    "\n",
    "X_train = data2_train.drop(['Happiness in life'], axis=1)\n",
    "X_test = data2_test.drop(['Happiness in life'], axis=1)"
   ]
  },
  {
   "cell_type": "code",
   "execution_count": 51,
   "metadata": {},
   "outputs": [
    {
     "data": {
      "text/plain": [
       "(704, 29)"
      ]
     },
     "execution_count": 51,
     "metadata": {},
     "output_type": "execute_result"
    }
   ],
   "source": [
    "# Посмотрим на их размеры\n",
    "data2_train.shape"
   ]
  },
  {
   "cell_type": "code",
   "execution_count": 52,
   "metadata": {},
   "outputs": [
    {
     "data": {
      "text/plain": [
       "(302, 29)"
      ]
     },
     "execution_count": 52,
     "metadata": {},
     "output_type": "execute_result"
    }
   ],
   "source": [
    "data2_test.shape"
   ]
  },
  {
   "cell_type": "code",
   "execution_count": 53,
   "metadata": {
    "collapsed": true
   },
   "outputs": [],
   "source": [
    "from sklearn.metrics import classification_report, accuracy_score\n",
    "from sklearn.linear_model import LogisticRegression"
   ]
  },
  {
   "cell_type": "code",
   "execution_count": 54,
   "metadata": {
    "collapsed": true
   },
   "outputs": [],
   "source": [
    "# объявляем модель\n",
    "logit = LogisticRegression()"
   ]
  },
  {
   "cell_type": "code",
   "execution_count": 55,
   "metadata": {},
   "outputs": [
    {
     "data": {
      "text/plain": [
       "LogisticRegression(C=1.0, class_weight=None, dual=False, fit_intercept=True,\n",
       "          intercept_scaling=1, max_iter=100, multi_class='ovr', n_jobs=1,\n",
       "          penalty='l2', random_state=None, solver='liblinear', tol=0.0001,\n",
       "          verbose=0, warm_start=False)"
      ]
     },
     "execution_count": 55,
     "metadata": {},
     "output_type": "execute_result"
    }
   ],
   "source": [
    "# обучаем на тренировочной выборке\n",
    "logit.fit(X_train, y_train)"
   ]
  },
  {
   "cell_type": "code",
   "execution_count": 56,
   "metadata": {
    "collapsed": true
   },
   "outputs": [],
   "source": [
    "# предсказываем вероятности\n",
    "y_predicted_proba = logit.predict_proba(X_test)"
   ]
  },
  {
   "cell_type": "code",
   "execution_count": 57,
   "metadata": {
    "collapsed": true,
    "scrolled": true
   },
   "outputs": [],
   "source": [
    "# предсказываем сами метки классов\n",
    "y_predicted = logit.predict(X_test)"
   ]
  },
  {
   "cell_type": "code",
   "execution_count": 58,
   "metadata": {
    "scrolled": true
   },
   "outputs": [
    {
     "name": "stdout",
     "output_type": "stream",
     "text": [
      "Accuracy = 0.5132450331125827\n",
      "             precision    recall  f1-score   support\n",
      "\n",
      "        1.0       0.00      0.00      0.00         4\n",
      "        2.0       0.00      0.00      0.00        16\n",
      "        3.0       0.35      0.23      0.28        70\n",
      "        4.0       0.57      0.81      0.67       163\n",
      "        5.0       0.32      0.14      0.20        49\n",
      "\n",
      "avg / total       0.44      0.51      0.46       302\n",
      "\n"
     ]
    }
   ],
   "source": [
    "print('Accuracy =', accuracy_score(y_test, y_predicted))\n",
    "print(classification_report(y_test, y_predicted))"
   ]
  },
  {
   "cell_type": "markdown",
   "metadata": {},
   "source": [
    "Такс, ну 0.5 все-таки лучше чем 0 ;)"
   ]
  },
  {
   "cell_type": "code",
   "execution_count": 59,
   "metadata": {},
   "outputs": [
    {
     "data": {
      "text/plain": [
       "StandardScaler(copy=True, with_mean=True, with_std=True)"
      ]
     },
     "execution_count": 59,
     "metadata": {},
     "output_type": "execute_result"
    }
   ],
   "source": [
    "from sklearn.preprocessing import StandardScaler\n",
    "\n",
    "scaler = StandardScaler()\n",
    "\n",
    "scaler.fit(data2_train[contin_var]) "
   ]
  },
  {
   "cell_type": "code",
   "execution_count": 60,
   "metadata": {
    "collapsed": true
   },
   "outputs": [],
   "source": [
    "data2_train_scale = scaler.transform(data2_train[contin_var])\n",
    "data2_test_scale = scaler.transform(data2_test[contin_var])\n",
    "\n",
    "data2_train[contin_var] = data2_train_scale\n",
    "\n",
    "data2_test[contin_var] = data2_test_scale"
   ]
  },
  {
   "cell_type": "code",
   "execution_count": 61,
   "metadata": {
    "scrolled": true
   },
   "outputs": [
    {
     "data": {
      "text/html": [
       "<div>\n",
       "<style scoped>\n",
       "    .dataframe tbody tr th:only-of-type {\n",
       "        vertical-align: middle;\n",
       "    }\n",
       "\n",
       "    .dataframe tbody tr th {\n",
       "        vertical-align: top;\n",
       "    }\n",
       "\n",
       "    .dataframe thead th {\n",
       "        text-align: right;\n",
       "    }\n",
       "</style>\n",
       "<table border=\"1\" class=\"dataframe\">\n",
       "  <thead>\n",
       "    <tr style=\"text-align: right;\">\n",
       "      <th></th>\n",
       "      <th>Happiness in life</th>\n",
       "      <th>Number of friends</th>\n",
       "      <th>Age</th>\n",
       "      <th>Height</th>\n",
       "      <th>Weight</th>\n",
       "      <th>Getting up</th>\n",
       "      <th>God</th>\n",
       "      <th>Health</th>\n",
       "      <th>Borrowed stuff</th>\n",
       "      <th>Self-criticism</th>\n",
       "      <th>...</th>\n",
       "      <th>Left - right handed_nan</th>\n",
       "      <th>Village - town_village</th>\n",
       "      <th>Village - town_nan</th>\n",
       "      <th>Smoking_former smoker</th>\n",
       "      <th>Smoking_never smoked</th>\n",
       "      <th>Smoking_tried smoking</th>\n",
       "      <th>Smoking_nan</th>\n",
       "      <th>Alcohol_never</th>\n",
       "      <th>Alcohol_social drinker</th>\n",
       "      <th>Alcohol_nan</th>\n",
       "    </tr>\n",
       "  </thead>\n",
       "  <tbody>\n",
       "    <tr>\n",
       "      <th>256</th>\n",
       "      <td>4.0</td>\n",
       "      <td>-2.236375</td>\n",
       "      <td>-0.143290</td>\n",
       "      <td>-0.339924</td>\n",
       "      <td>-0.464142</td>\n",
       "      <td>4.0</td>\n",
       "      <td>1.0</td>\n",
       "      <td>3.0</td>\n",
       "      <td>4.0</td>\n",
       "      <td>2.0</td>\n",
       "      <td>...</td>\n",
       "      <td>0</td>\n",
       "      <td>0</td>\n",
       "      <td>0</td>\n",
       "      <td>0</td>\n",
       "      <td>0</td>\n",
       "      <td>0</td>\n",
       "      <td>0</td>\n",
       "      <td>0</td>\n",
       "      <td>1</td>\n",
       "      <td>0</td>\n",
       "    </tr>\n",
       "    <tr>\n",
       "      <th>137</th>\n",
       "      <td>3.0</td>\n",
       "      <td>-2.236375</td>\n",
       "      <td>0.010484</td>\n",
       "      <td>0.009050</td>\n",
       "      <td>0.012033</td>\n",
       "      <td>3.0</td>\n",
       "      <td>4.0</td>\n",
       "      <td>3.0</td>\n",
       "      <td>4.0</td>\n",
       "      <td>3.0</td>\n",
       "      <td>...</td>\n",
       "      <td>0</td>\n",
       "      <td>1</td>\n",
       "      <td>0</td>\n",
       "      <td>0</td>\n",
       "      <td>1</td>\n",
       "      <td>0</td>\n",
       "      <td>0</td>\n",
       "      <td>1</td>\n",
       "      <td>0</td>\n",
       "      <td>0</td>\n",
       "    </tr>\n",
       "    <tr>\n",
       "      <th>156</th>\n",
       "      <td>2.0</td>\n",
       "      <td>-0.311671</td>\n",
       "      <td>1.638849</td>\n",
       "      <td>0.353603</td>\n",
       "      <td>2.282826</td>\n",
       "      <td>5.0</td>\n",
       "      <td>5.0</td>\n",
       "      <td>3.0</td>\n",
       "      <td>1.0</td>\n",
       "      <td>3.0</td>\n",
       "      <td>...</td>\n",
       "      <td>0</td>\n",
       "      <td>0</td>\n",
       "      <td>0</td>\n",
       "      <td>0</td>\n",
       "      <td>1</td>\n",
       "      <td>0</td>\n",
       "      <td>0</td>\n",
       "      <td>0</td>\n",
       "      <td>0</td>\n",
       "      <td>0</td>\n",
       "    </tr>\n",
       "    <tr>\n",
       "      <th>680</th>\n",
       "      <td>3.0</td>\n",
       "      <td>-0.311671</td>\n",
       "      <td>1.638849</td>\n",
       "      <td>-1.330678</td>\n",
       "      <td>-0.835354</td>\n",
       "      <td>5.0</td>\n",
       "      <td>3.0</td>\n",
       "      <td>3.0</td>\n",
       "      <td>4.0</td>\n",
       "      <td>3.0</td>\n",
       "      <td>...</td>\n",
       "      <td>0</td>\n",
       "      <td>0</td>\n",
       "      <td>0</td>\n",
       "      <td>1</td>\n",
       "      <td>0</td>\n",
       "      <td>0</td>\n",
       "      <td>0</td>\n",
       "      <td>0</td>\n",
       "      <td>1</td>\n",
       "      <td>0</td>\n",
       "    </tr>\n",
       "    <tr>\n",
       "      <th>220</th>\n",
       "      <td>5.0</td>\n",
       "      <td>0.650681</td>\n",
       "      <td>-0.856146</td>\n",
       "      <td>2.632337</td>\n",
       "      <td>1.763129</td>\n",
       "      <td>4.0</td>\n",
       "      <td>2.0</td>\n",
       "      <td>3.0</td>\n",
       "      <td>5.0</td>\n",
       "      <td>2.0</td>\n",
       "      <td>...</td>\n",
       "      <td>0</td>\n",
       "      <td>1</td>\n",
       "      <td>0</td>\n",
       "      <td>0</td>\n",
       "      <td>0</td>\n",
       "      <td>1</td>\n",
       "      <td>0</td>\n",
       "      <td>0</td>\n",
       "      <td>0</td>\n",
       "      <td>0</td>\n",
       "    </tr>\n",
       "  </tbody>\n",
       "</table>\n",
       "<p>5 rows × 29 columns</p>\n",
       "</div>"
      ],
      "text/plain": [
       "     Happiness in life  Number of friends       Age    Height    Weight  \\\n",
       "256                4.0          -2.236375 -0.143290 -0.339924 -0.464142   \n",
       "137                3.0          -2.236375  0.010484  0.009050  0.012033   \n",
       "156                2.0          -0.311671  1.638849  0.353603  2.282826   \n",
       "680                3.0          -0.311671  1.638849 -1.330678 -0.835354   \n",
       "220                5.0           0.650681 -0.856146  2.632337  1.763129   \n",
       "\n",
       "     Getting up  God  Health  Borrowed stuff  Self-criticism     ...       \\\n",
       "256         4.0  1.0     3.0             4.0             2.0     ...        \n",
       "137         3.0  4.0     3.0             4.0             3.0     ...        \n",
       "156         5.0  5.0     3.0             1.0             3.0     ...        \n",
       "680         5.0  3.0     3.0             4.0             3.0     ...        \n",
       "220         4.0  2.0     3.0             5.0             2.0     ...        \n",
       "\n",
       "     Left - right handed_nan  Village - town_village  Village - town_nan  \\\n",
       "256                        0                       0                   0   \n",
       "137                        0                       1                   0   \n",
       "156                        0                       0                   0   \n",
       "680                        0                       0                   0   \n",
       "220                        0                       1                   0   \n",
       "\n",
       "     Smoking_former smoker  Smoking_never smoked  Smoking_tried smoking  \\\n",
       "256                      0                     0                      0   \n",
       "137                      0                     1                      0   \n",
       "156                      0                     1                      0   \n",
       "680                      1                     0                      0   \n",
       "220                      0                     0                      1   \n",
       "\n",
       "     Smoking_nan  Alcohol_never  Alcohol_social drinker  Alcohol_nan  \n",
       "256            0              0                       1            0  \n",
       "137            0              1                       0            0  \n",
       "156            0              0                       0            0  \n",
       "680            0              0                       1            0  \n",
       "220            0              0                       0            0  \n",
       "\n",
       "[5 rows x 29 columns]"
      ]
     },
     "execution_count": 61,
     "metadata": {},
     "output_type": "execute_result"
    }
   ],
   "source": [
    "data2_train.head()"
   ]
  },
  {
   "cell_type": "markdown",
   "metadata": {},
   "source": [
    "### Посмотрим, изменилось ли качество после шкалирования"
   ]
  },
  {
   "cell_type": "code",
   "execution_count": 62,
   "metadata": {
    "collapsed": true
   },
   "outputs": [],
   "source": [
    "from sklearn.model_selection import train_test_split\n",
    "data2_train, data2_test = train_test_split(data2, test_size = 0.3)\n",
    "\n",
    "y_train = data2_train['Happiness in life']\n",
    "y_test = data2_test['Happiness in life']\n",
    "\n",
    "X_train = data2_train.drop(['Happiness in life'], axis=1)\n",
    "X_test = data2_test.drop(['Happiness in life'], axis=1)"
   ]
  },
  {
   "cell_type": "code",
   "execution_count": 63,
   "metadata": {
    "collapsed": true
   },
   "outputs": [],
   "source": [
    "from sklearn.metrics import classification_report, accuracy_score\n",
    "from sklearn.linear_model import LogisticRegression\n",
    "logit = LogisticRegression()"
   ]
  },
  {
   "cell_type": "code",
   "execution_count": 64,
   "metadata": {},
   "outputs": [
    {
     "data": {
      "text/plain": [
       "LogisticRegression(C=1.0, class_weight=None, dual=False, fit_intercept=True,\n",
       "          intercept_scaling=1, max_iter=100, multi_class='ovr', n_jobs=1,\n",
       "          penalty='l2', random_state=None, solver='liblinear', tol=0.0001,\n",
       "          verbose=0, warm_start=False)"
      ]
     },
     "execution_count": 64,
     "metadata": {},
     "output_type": "execute_result"
    }
   ],
   "source": [
    "logit.fit(X_train, y_train)"
   ]
  },
  {
   "cell_type": "code",
   "execution_count": 65,
   "metadata": {
    "collapsed": true
   },
   "outputs": [],
   "source": [
    "y_predicted_proba = logit.predict_proba(X_test)"
   ]
  },
  {
   "cell_type": "code",
   "execution_count": 66,
   "metadata": {
    "collapsed": true
   },
   "outputs": [],
   "source": [
    "y_predicted = logit.predict(X_test)"
   ]
  },
  {
   "cell_type": "code",
   "execution_count": 67,
   "metadata": {},
   "outputs": [
    {
     "name": "stdout",
     "output_type": "stream",
     "text": [
      "Accuracy = 0.5099337748344371\n",
      "             precision    recall  f1-score   support\n",
      "\n",
      "        1.0       0.00      0.00      0.00         5\n",
      "        2.0       0.67      0.11      0.19        18\n",
      "        3.0       0.56      0.14      0.23        98\n",
      "        4.0       0.50      0.94      0.65       143\n",
      "        5.0       0.67      0.11      0.18        38\n",
      "\n",
      "avg / total       0.54      0.51      0.42       302\n",
      "\n"
     ]
    }
   ],
   "source": [
    "print('Accuracy =', accuracy_score(y_test, y_predicted))\n",
    "print(classification_report(y_test, y_predicted))"
   ]
  },
  {
   "cell_type": "markdown",
   "metadata": {},
   "source": [
    "Изменилось, правда стало чуть меньше"
   ]
  },
  {
   "cell_type": "markdown",
   "metadata": {},
   "source": [
    "### Обучаем соседей не издавать эти странные звуки  "
   ]
  },
  {
   "cell_type": "code",
   "execution_count": 68,
   "metadata": {},
   "outputs": [
    {
     "data": {
      "text/plain": [
       "KNeighborsClassifier(algorithm='auto', leaf_size=30, metric='minkowski',\n",
       "           metric_params=None, n_jobs=1, n_neighbors=4, p=2,\n",
       "           weights='uniform')"
      ]
     },
     "execution_count": 68,
     "metadata": {},
     "output_type": "execute_result"
    }
   ],
   "source": [
    "from sklearn.neighbors import KNeighborsClassifier # Может в них счастье?\n",
    "\n",
    "clf_knn = KNeighborsClassifier(n_neighbors=4)\n",
    "clf_knn.fit(X_train, y_train)"
   ]
  },
  {
   "cell_type": "code",
   "execution_count": 69,
   "metadata": {},
   "outputs": [
    {
     "data": {
      "text/plain": [
       "array([4., 4., 3., 4., 4., 3., 4., 4., 4., 4., 3., 3., 5., 1., 4., 4., 4.,\n",
       "       3., 4., 4., 3., 4., 3., 3., 4., 4., 4., 4., 4., 4., 4., 3., 4., 4.,\n",
       "       4., 4., 3., 4., 2., 4., 4., 4., 4., 4., 3., 3., 3., 4., 4., 4., 4.,\n",
       "       4., 3., 4., 3., 4., 3., 3., 4., 3., 4., 4., 4., 3., 4., 4., 3., 4.,\n",
       "       4., 4., 3., 4., 3., 3., 4., 3., 3., 3., 3., 5., 4., 4., 3., 4., 4.,\n",
       "       4., 4., 4., 4., 3., 4., 4., 4., 4., 3., 4., 4., 4., 4., 3., 3., 3.,\n",
       "       3., 3., 4., 4., 4., 1., 2., 4., 4., 5., 3., 4., 4., 3., 4., 4., 4.,\n",
       "       3., 4., 4., 4., 4., 4., 3., 4., 3., 3., 4., 4., 3., 5., 4., 4., 3.,\n",
       "       3., 3., 3., 3., 4., 2., 5., 4., 4., 3., 4., 4., 4., 4., 4., 3., 4.,\n",
       "       4., 3., 4., 4., 4., 4., 4., 4., 3., 4., 4., 3., 4., 4., 3., 4., 5.,\n",
       "       4., 4., 4., 4., 4., 4., 4., 3., 4., 3., 4., 3., 3., 3., 4., 3., 4.,\n",
       "       3., 4., 4., 4., 4., 4., 3., 4., 4., 3., 4., 3., 4., 3., 4., 4., 4.,\n",
       "       4., 3., 4., 3., 4., 2., 4., 4., 5., 3., 4., 4., 3., 4., 4., 4., 4.,\n",
       "       4., 4., 4., 4., 4., 4., 3., 4., 3., 4., 4., 4., 2., 3., 4., 4., 4.,\n",
       "       4., 4., 4., 3., 3., 4., 4., 4., 4., 4., 4., 4., 4., 4., 4., 3., 4.,\n",
       "       4., 4., 4., 4., 3., 4., 3., 4., 4., 3., 4., 4., 4., 4., 4., 4., 4.,\n",
       "       4., 5., 4., 4., 4., 4., 4., 4., 4., 3., 4., 4., 4., 4., 4., 4., 4.,\n",
       "       4., 4., 4., 4., 4., 3., 3., 3., 4., 4., 3., 5., 4.])"
      ]
     },
     "execution_count": 69,
     "metadata": {},
     "output_type": "execute_result"
    }
   ],
   "source": [
    "y_predicted = clf_knn.predict(X_test)\n",
    "y_predicted"
   ]
  },
  {
   "cell_type": "code",
   "execution_count": 70,
   "metadata": {
    "scrolled": true
   },
   "outputs": [
    {
     "name": "stdout",
     "output_type": "stream",
     "text": [
      "Accuracy = 0.44039735099337746\n"
     ]
    }
   ],
   "source": [
    "from sklearn.metrics import accuracy_score\n",
    "print('Accuracy =', accuracy_score(y_test, y_predicted))"
   ]
  },
  {
   "cell_type": "markdown",
   "metadata": {},
   "source": [
    "Возьмем больше соседей"
   ]
  },
  {
   "cell_type": "code",
   "execution_count": 71,
   "metadata": {
    "collapsed": true
   },
   "outputs": [],
   "source": [
    "clf_knn = KNeighborsClassifier(n_neighbors=10)\n",
    "clf_knn.fit(X_train, y_train)\n",
    "y_predicted = clf_knn.predict(X_test)"
   ]
  },
  {
   "cell_type": "code",
   "execution_count": 72,
   "metadata": {},
   "outputs": [
    {
     "data": {
      "text/plain": [
       "array([4., 4., 3., 4., 4., 3., 4., 4., 4., 4., 4., 4., 4., 4., 4., 4., 4.,\n",
       "       3., 4., 4., 4., 3., 4., 3., 3., 4., 4., 4., 4., 4., 4., 3., 4., 4.,\n",
       "       4., 4., 4., 4., 4., 4., 4., 4., 4., 5., 3., 4., 4., 4., 4., 4., 4.,\n",
       "       4., 3., 3., 4., 4., 3., 4., 4., 3., 4., 4., 4., 4., 4., 4., 3., 4.,\n",
       "       4., 4., 4., 4., 3., 3., 4., 3., 4., 4., 3., 3., 4., 4., 4., 4., 4.,\n",
       "       3., 4., 4., 4., 3., 4., 4., 4., 3., 3., 4., 4., 4., 4., 3., 3., 4.,\n",
       "       3., 4., 4., 4., 4., 4., 4., 4., 4., 4., 4., 4., 3., 4., 4., 4., 4.,\n",
       "       4., 4., 4., 4., 4., 4., 4., 4., 3., 4., 4., 4., 3., 4., 4., 4., 3.,\n",
       "       3., 3., 4., 3., 4., 3., 3., 4., 4., 3., 4., 4., 4., 3., 4., 4., 4.,\n",
       "       4., 4., 4., 4., 4., 4., 4., 4., 4., 4., 4., 4., 4., 4., 3., 4., 4.,\n",
       "       4., 4., 4., 4., 4., 4., 4., 3., 4., 3., 4., 3., 4., 4., 4., 3., 4.,\n",
       "       3., 4., 4., 4., 4., 4., 3., 4., 4., 3., 4., 3., 4., 4., 4., 4., 3.,\n",
       "       4., 4., 4., 3., 4., 2., 4., 4., 3., 3., 4., 4., 3., 4., 4., 4., 4.,\n",
       "       4., 4., 4., 4., 4., 4., 3., 4., 3., 4., 4., 4., 4., 3., 4., 4., 4.,\n",
       "       4., 4., 4., 3., 3., 4., 4., 4., 4., 4., 4., 4., 4., 4., 4., 3., 4.,\n",
       "       4., 4., 4., 4., 4., 4., 3., 4., 4., 3., 3., 3., 4., 4., 4., 4., 4.,\n",
       "       4., 4., 4., 4., 4., 4., 4., 4., 4., 3., 4., 3., 4., 4., 4., 4., 4.,\n",
       "       4., 4., 4., 4., 4., 4., 4., 4., 4., 4., 4., 4., 4.])"
      ]
     },
     "execution_count": 72,
     "metadata": {},
     "output_type": "execute_result"
    }
   ],
   "source": [
    "y_predicted = clf_knn.predict(X_test)\n",
    "y_predicted"
   ]
  },
  {
   "cell_type": "code",
   "execution_count": 73,
   "metadata": {},
   "outputs": [
    {
     "name": "stdout",
     "output_type": "stream",
     "text": [
      "Accuracy = 0.46688741721854304\n"
     ]
    }
   ],
   "source": [
    "from sklearn.metrics import accuracy_score\n",
    "print('Accuracy =', accuracy_score(y_test, y_predicted))"
   ]
  },
  {
   "cell_type": "markdown",
   "metadata": {},
   "source": [
    "Отлично!Уже лучше"
   ]
  },
  {
   "cell_type": "markdown",
   "metadata": {},
   "source": [
    "### Дерево"
   ]
  },
  {
   "cell_type": "code",
   "execution_count": 74,
   "metadata": {
    "collapsed": true
   },
   "outputs": [],
   "source": [
    "from sklearn.tree import DecisionTreeClassifier # подгрузили дерево"
   ]
  },
  {
   "cell_type": "code",
   "execution_count": 75,
   "metadata": {
    "collapsed": true
   },
   "outputs": [],
   "source": [
    "clf_tree = DecisionTreeClassifier()     # объявили дерево\n",
    "clf_tree.fit(X_train, y_train)          # научили дерево\n",
    "y_predicted = clf_tree.predict(X_test)  # предсказали метки класса\n",
    "y_proba = clf_tree.predict_proba(X_test)# предсказали вероястности"
   ]
  },
  {
   "cell_type": "code",
   "execution_count": 76,
   "metadata": {},
   "outputs": [
    {
     "name": "stdout",
     "output_type": "stream",
     "text": [
      "Accuracy = 0.4304635761589404\n"
     ]
    }
   ],
   "source": [
    "print('Accuracy =', accuracy_score(y_test, y_predicted))"
   ]
  },
  {
   "cell_type": "code",
   "execution_count": 77,
   "metadata": {},
   "outputs": [
    {
     "data": {
      "text/html": [
       "<div>\n",
       "<style scoped>\n",
       "    .dataframe tbody tr th:only-of-type {\n",
       "        vertical-align: middle;\n",
       "    }\n",
       "\n",
       "    .dataframe tbody tr th {\n",
       "        vertical-align: top;\n",
       "    }\n",
       "\n",
       "    .dataframe thead th {\n",
       "        text-align: right;\n",
       "    }\n",
       "</style>\n",
       "<table border=\"1\" class=\"dataframe\">\n",
       "  <thead>\n",
       "    <tr style=\"text-align: right;\">\n",
       "      <th></th>\n",
       "      <th>importance</th>\n",
       "    </tr>\n",
       "    <tr>\n",
       "      <th>feature</th>\n",
       "      <th></th>\n",
       "    </tr>\n",
       "  </thead>\n",
       "  <tbody>\n",
       "    <tr>\n",
       "      <th>Height</th>\n",
       "      <td>0.136133</td>\n",
       "    </tr>\n",
       "    <tr>\n",
       "      <th>Changing the past</th>\n",
       "      <td>0.102231</td>\n",
       "    </tr>\n",
       "    <tr>\n",
       "      <th>Self-criticism</th>\n",
       "      <td>0.076974</td>\n",
       "    </tr>\n",
       "    <tr>\n",
       "      <th>Weight</th>\n",
       "      <td>0.069693</td>\n",
       "    </tr>\n",
       "    <tr>\n",
       "      <th>God</th>\n",
       "      <td>0.069345</td>\n",
       "    </tr>\n",
       "    <tr>\n",
       "      <th>Age</th>\n",
       "      <td>0.068925</td>\n",
       "    </tr>\n",
       "    <tr>\n",
       "      <th>Borrowed stuff</th>\n",
       "      <td>0.063042</td>\n",
       "    </tr>\n",
       "    <tr>\n",
       "      <th>Spending on healthy eating</th>\n",
       "      <td>0.053522</td>\n",
       "    </tr>\n",
       "    <tr>\n",
       "      <th>Number of friends</th>\n",
       "      <td>0.053308</td>\n",
       "    </tr>\n",
       "    <tr>\n",
       "      <th>Friends versus money</th>\n",
       "      <td>0.040407</td>\n",
       "    </tr>\n",
       "    <tr>\n",
       "      <th>Health</th>\n",
       "      <td>0.038009</td>\n",
       "    </tr>\n",
       "    <tr>\n",
       "      <th>Elections</th>\n",
       "      <td>0.032450</td>\n",
       "    </tr>\n",
       "    <tr>\n",
       "      <th>Smoking_tried smoking</th>\n",
       "      <td>0.031316</td>\n",
       "    </tr>\n",
       "    <tr>\n",
       "      <th>Music</th>\n",
       "      <td>0.029614</td>\n",
       "    </tr>\n",
       "    <tr>\n",
       "      <th>Movies</th>\n",
       "      <td>0.029201</td>\n",
       "    </tr>\n",
       "    <tr>\n",
       "      <th>Getting up</th>\n",
       "      <td>0.023937</td>\n",
       "    </tr>\n",
       "    <tr>\n",
       "      <th>Village - town_village</th>\n",
       "      <td>0.016898</td>\n",
       "    </tr>\n",
       "    <tr>\n",
       "      <th>Alcohol_never</th>\n",
       "      <td>0.014991</td>\n",
       "    </tr>\n",
       "    <tr>\n",
       "      <th>Alcohol_social drinker</th>\n",
       "      <td>0.013845</td>\n",
       "    </tr>\n",
       "    <tr>\n",
       "      <th>Left - right handed_right handed</th>\n",
       "      <td>0.012118</td>\n",
       "    </tr>\n",
       "    <tr>\n",
       "      <th>Smoking_never smoked</th>\n",
       "      <td>0.010848</td>\n",
       "    </tr>\n",
       "    <tr>\n",
       "      <th>Gender_male</th>\n",
       "      <td>0.007013</td>\n",
       "    </tr>\n",
       "    <tr>\n",
       "      <th>Smoking_former smoker</th>\n",
       "      <td>0.006182</td>\n",
       "    </tr>\n",
       "    <tr>\n",
       "      <th>Smoking_nan</th>\n",
       "      <td>0.000000</td>\n",
       "    </tr>\n",
       "    <tr>\n",
       "      <th>Left - right handed_nan</th>\n",
       "      <td>0.000000</td>\n",
       "    </tr>\n",
       "    <tr>\n",
       "      <th>Village - town_nan</th>\n",
       "      <td>0.000000</td>\n",
       "    </tr>\n",
       "    <tr>\n",
       "      <th>Gender_nan</th>\n",
       "      <td>0.000000</td>\n",
       "    </tr>\n",
       "    <tr>\n",
       "      <th>Alcohol_nan</th>\n",
       "      <td>0.000000</td>\n",
       "    </tr>\n",
       "  </tbody>\n",
       "</table>\n",
       "</div>"
      ],
      "text/plain": [
       "                                  importance\n",
       "feature                                     \n",
       "Height                              0.136133\n",
       "Changing the past                   0.102231\n",
       "Self-criticism                      0.076974\n",
       "Weight                              0.069693\n",
       "God                                 0.069345\n",
       "Age                                 0.068925\n",
       "Borrowed stuff                      0.063042\n",
       "Spending on healthy eating          0.053522\n",
       "Number of friends                   0.053308\n",
       "Friends versus money                0.040407\n",
       "Health                              0.038009\n",
       "Elections                           0.032450\n",
       "Smoking_tried smoking               0.031316\n",
       "Music                               0.029614\n",
       "Movies                              0.029201\n",
       "Getting up                          0.023937\n",
       "Village - town_village              0.016898\n",
       "Alcohol_never                       0.014991\n",
       "Alcohol_social drinker              0.013845\n",
       "Left - right handed_right handed    0.012118\n",
       "Smoking_never smoked                0.010848\n",
       "Gender_male                         0.007013\n",
       "Smoking_former smoker               0.006182\n",
       "Smoking_nan                         0.000000\n",
       "Left - right handed_nan             0.000000\n",
       "Village - town_nan                  0.000000\n",
       "Gender_nan                          0.000000\n",
       "Alcohol_nan                         0.000000"
      ]
     },
     "execution_count": 77,
     "metadata": {},
     "output_type": "execute_result"
    }
   ],
   "source": [
    "featureImportance = pd.DataFrame({\"feature\": data2.drop('Happiness in life',axis=1).columns, \n",
    "                                  \"importance\": clf_tree.feature_importances_})\n",
    "\n",
    "featureImportance.set_index('feature', inplace=True)\n",
    "featureImportance.sort_values([\"importance\"], ascending=False, inplace=True)\n",
    "featureImportance"
   ]
  },
  {
   "cell_type": "code",
   "execution_count": 78,
   "metadata": {},
   "outputs": [
    {
     "data": {
      "text/plain": [
       "<matplotlib.axes._subplots.AxesSubplot at 0x1a20294470>"
      ]
     },
     "execution_count": 78,
     "metadata": {},
     "output_type": "execute_result"
    },
    {
     "data": {
      "image/png": "[encoded data removed]",
      "text/plain": [
       "<matplotlib.figure.Figure at 0x1a15856e48>"
      ]
     },
     "metadata": {},
     "output_type": "display_data"
    }
   ],
   "source": [
    "featureImportance[\"importance\"].plot('bar')"
   ]
  },
  {
   "cell_type": "markdown",
   "metadata": {},
   "source": [
    "Теперь выращиваем лесок."
   ]
  },
  {
   "cell_type": "code",
   "execution_count": 79,
   "metadata": {
    "collapsed": true
   },
   "outputs": [],
   "source": [
    "from sklearn.ensemble import RandomForestClassifier"
   ]
  },
  {
   "cell_type": "code",
   "execution_count": 80,
   "metadata": {
    "collapsed": true
   },
   "outputs": [],
   "source": [
    "rfc = RandomForestClassifier(n_estimators=10) # число деревьев в лесе\n",
    "rfc.fit(X_train, y_train)\n",
    "y_predicted = rfc.predict(X_test)\n",
    "y_proba = rfc.predict_proba(X_test)"
   ]
  },
  {
   "cell_type": "code",
   "execution_count": 81,
   "metadata": {},
   "outputs": [
    {
     "name": "stdout",
     "output_type": "stream",
     "text": [
      "Accuracy = 0.47019867549668876\n"
     ]
    }
   ],
   "source": [
    "print('Accuracy =', accuracy_score(y_test, y_predicted))"
   ]
  },
  {
   "cell_type": "code",
   "execution_count": 82,
   "metadata": {
    "scrolled": false
   },
   "outputs": [
    {
     "data": {
      "text/plain": [
       "<matplotlib.axes._subplots.AxesSubplot at 0x1a202c7f28>"
      ]
     },
     "execution_count": 82,
     "metadata": {},
     "output_type": "execute_result"
    },
    {
     "data": {
      "image/png": "[encoded data removed]",
      "text/plain": [
       "<matplotlib.figure.Figure at 0x1a202c7908>"
      ]
     },
     "metadata": {},
     "output_type": "display_data"
    }
   ],
   "source": [
    "featureImportance = pd.DataFrame({\"feature\": data2.drop('Happiness in life',axis=1).columns, \n",
    "                                  \"importance\": rfc.feature_importances_})\n",
    "\n",
    "featureImportance.set_index('feature', inplace=True)\n",
    "featureImportance.sort_values([\"importance\"], ascending=False, inplace=True)\n",
    "featureImportance[\"importance\"].plot('bar')"
   ]
  },
  {
   "cell_type": "code",
   "execution_count": 83,
   "metadata": {
    "collapsed": true
   },
   "outputs": [],
   "source": [
    "from sklearn.linear_model import LogisticRegression"
   ]
  },
  {
   "cell_type": "code",
   "execution_count": 84,
   "metadata": {
    "collapsed": true
   },
   "outputs": [],
   "source": [
    "from sklearn.model_selection import train_test_split\n",
    "data2_train, data2_test = train_test_split(data2, test_size = 0.3)\n",
    "\n",
    "y_train = data2_train['Happiness in life']\n",
    "y_test = data2_test['Happiness in life']\n",
    "\n",
    "X_train = data2_train.drop(['Happiness in life'], axis=1)\n",
    "X_test = data2_test.drop(['Happiness in life'], axis=1)"
   ]
  },
  {
   "cell_type": "code",
   "execution_count": 85,
   "metadata": {},
   "outputs": [
    {
     "data": {
      "text/plain": [
       "array([3., 4., 4., 4., 4., 4., 3., 4., 4., 4., 4., 4., 4., 3., 4., 4., 3.,\n",
       "       4., 4., 4., 4., 4., 4., 4., 4., 4., 4., 3., 4., 4., 4., 4., 3., 4.,\n",
       "       4., 4., 4., 4., 4., 4., 5., 4., 4., 4., 4., 4., 4., 4., 4., 4., 3.,\n",
       "       4., 3., 4., 3., 4., 4., 4., 4., 4., 4., 5., 4., 4., 4., 4., 3., 4.,\n",
       "       3., 3., 4., 4., 4., 4., 4., 4., 4., 4., 4., 4., 4., 4., 4., 4., 4.,\n",
       "       4., 4., 3., 3., 3., 3., 4., 4., 4., 4., 4., 3., 4., 4., 3., 4., 3.,\n",
       "       4., 4., 3., 4., 3., 4., 5., 5., 3., 3., 4., 4., 4., 4., 4., 4., 4.,\n",
       "       4., 4., 4., 4., 3., 4., 3., 4., 3., 4., 4., 4., 3., 4., 4., 4., 4.,\n",
       "       4., 4., 4., 4., 4., 4., 4., 4., 4., 4., 4., 5., 4., 3., 4., 4., 3.,\n",
       "       3., 3., 3., 4., 4., 4., 4., 4., 4., 3., 3., 4., 4., 4., 4., 4., 4.,\n",
       "       4., 4., 4., 3., 4., 4., 4., 4., 4., 4., 4., 4., 4., 3., 3., 4., 4.,\n",
       "       4., 3., 4., 3., 4., 4., 4., 4., 4., 4., 4., 3., 4., 3., 4., 4., 4.,\n",
       "       4., 3., 4., 3., 4., 4., 4., 4., 4., 4., 3., 4., 3., 4., 4., 1., 4.,\n",
       "       4., 4., 4., 4., 4., 4., 4., 4., 4., 4., 4., 4., 4., 4., 4., 4., 4.,\n",
       "       3., 3., 4., 4., 4., 4., 4., 4., 4., 4., 4., 4., 4., 4., 4., 3., 4.,\n",
       "       3., 4., 3., 4., 4., 4., 3., 4., 4., 4., 4., 3., 4., 4., 3., 4., 4.,\n",
       "       4., 3., 4., 4., 4., 4., 4., 4., 4., 4., 3., 4., 4., 3., 3., 4., 4.,\n",
       "       4., 4., 3., 4., 4., 3., 4., 4., 5., 4., 4., 4., 4.])"
      ]
     },
     "execution_count": 85,
     "metadata": {},
     "output_type": "execute_result"
    }
   ],
   "source": [
    "# объявляем модель\n",
    "logit = LogisticRegression()\n",
    "# обучаем на тренировочной выборке\n",
    "logit.fit(X_train, y_train)\n",
    "# предсказываем вероятности\n",
    "logit.predict_proba(X_test)\n",
    "# предсказываем сами метки классов\n",
    "logit.predict(X_test)\n"
   ]
  },
  {
   "cell_type": "code",
   "execution_count": 96,
   "metadata": {
    "scrolled": true
   },
   "outputs": [
    {
     "data": {
      "text/plain": [
       "array([-1.16603511, -0.4247686 ,  0.06153568, -0.09487149,  0.38786518,\n",
       "       -0.06188176, -0.99671425,  0.18487011,  0.54810572, -0.57565793,\n",
       "       -0.65052859, -0.3986497 ,  0.61419937, -0.30813982,  0.72143333,\n",
       "        0.16532836,  0.        ,  0.44995012,  0.        ,  0.86794074,\n",
       "        0.        ,  0.84452311, -0.03551544, -0.95864057,  0.        ,\n",
       "       -0.23711568,  0.89272392,  0.        ])"
      ]
     },
     "execution_count": 96,
     "metadata": {},
     "output_type": "execute_result"
    }
   ],
   "source": [
    "logit.coef_[0, : ]"
   ]
  },
  {
   "cell_type": "code",
   "execution_count": 99,
   "metadata": {},
   "outputs": [
    {
     "data": {
      "text/plain": [
       "<matplotlib.axes._subplots.AxesSubplot at 0x1a1fd57390>"
      ]
     },
     "execution_count": 99,
     "metadata": {},
     "output_type": "execute_result"
    },
    {
     "data": {
      "image/png": "[encoded data removed]",
      "text/plain": [
       "<matplotlib.figure.Figure at 0x1a1fc125f8>"
      ]
     },
     "metadata": {},
     "output_type": "display_data"
    }
   ],
   "source": [
    "featureImportance = pd.DataFrame({\"feature\": data2.drop('Happiness in life',axis=1).columns, \n",
    "                                                         \"importance\": logit.coef_[0, : ]})\n",
    "\n",
    "featureImportance.set_index('feature', inplace=True)\n",
    "featureImportance.sort_values([\"importance\"], ascending=False, inplace=True)\n",
    "featureImportance[\"importance\"].head(30).plot('bar', figsize=(12,5))\n",
    "featureImportance[\"importance\"].tail(30).plot('bar', figsize=(12,5))\n"
   ]
  },
  {
   "cell_type": "code",
   "execution_count": 100,
   "metadata": {},
   "outputs": [
    {
     "data": {
      "text/plain": [
       "<matplotlib.axes._subplots.AxesSubplot at 0x1a1bff2fd0>"
      ]
     },
     "execution_count": 100,
     "metadata": {},
     "output_type": "execute_result"
    },
    {
     "data": {
      "image/png": "[encoded data removed]",
      "text/plain": [
       "<matplotlib.figure.Figure at 0x1a1bffa710>"
      ]
     },
     "metadata": {},
     "output_type": "display_data"
    }
   ],
   "source": [
    "featureImportance = pd.DataFrame({\"feature\": data2.drop('Happiness in life',axis=1).columns, \n",
    "                                                         \"importance\": logit.coef_[1, : ]})\n",
    "\n",
    "featureImportance.set_index('feature', inplace=True)\n",
    "featureImportance.sort_values([\"importance\"], ascending=False, inplace=True)\n",
    "featureImportance[\"importance\"].head(30).plot('bar', figsize=(12,5))\n",
    "featureImportance[\"importance\"].tail(30).plot('bar', figsize=(12,5))\n"
   ]
  },
  {
   "cell_type": "code",
   "execution_count": 101,
   "metadata": {},
   "outputs": [
    {
     "data": {
      "text/plain": [
       "<matplotlib.axes._subplots.AxesSubplot at 0x1a15efb668>"
      ]
     },
     "execution_count": 101,
     "metadata": {},
     "output_type": "execute_result"
    },
    {
     "data": {
      "image/png": "[encoded data removed]",
      "text/plain": [
       "<matplotlib.figure.Figure at 0x1a143b5d30>"
      ]
     },
     "metadata": {},
     "output_type": "display_data"
    }
   ],
   "source": [
    "featureImportance = pd.DataFrame({\"feature\": data2.drop('Happiness in life',axis=1).columns, \n",
    "                                                         \"importance\": logit.coef_[2, : ]})\n",
    "\n",
    "featureImportance.set_index('feature', inplace=True)\n",
    "featureImportance.sort_values([\"importance\"], ascending=False, inplace=True)\n",
    "featureImportance[\"importance\"].head(30).plot('bar', figsize=(12,5))\n",
    "featureImportance[\"importance\"].tail(30).plot('bar', figsize=(12,5))"
   ]
  },
  {
   "cell_type": "code",
   "execution_count": 102,
   "metadata": {
    "scrolled": false
   },
   "outputs": [
    {
     "data": {
      "text/plain": [
       "<matplotlib.axes._subplots.AxesSubplot at 0x1a143df710>"
      ]
     },
     "execution_count": 102,
     "metadata": {},
     "output_type": "execute_result"
    },
    {
     "data": {
      "image/png": "[encoded data removed]",
      "text/plain": [
       "<matplotlib.figure.Figure at 0x1a1fe6de48>"
      ]
     },
     "metadata": {},
     "output_type": "display_data"
    }
   ],
   "source": [
    "featureImportance = pd.DataFrame({\"feature\": data2.drop('Happiness in life',axis=1).columns, \n",
    "                                                         \"importance\": logit.coef_[3, : ]})\n",
    "\n",
    "featureImportance.set_index('feature', inplace=True)\n",
    "featureImportance.sort_values([\"importance\"], ascending=False, inplace=True)\n",
    "featureImportance[\"importance\"].head(30).plot('bar', figsize=(12,5))\n",
    "featureImportance[\"importance\"].tail(30).plot('bar', figsize=(12,5))"
   ]
  },
  {
   "cell_type": "code",
   "execution_count": 103,
   "metadata": {},
   "outputs": [
    {
     "data": {
      "text/plain": [
       "<matplotlib.axes._subplots.AxesSubplot at 0x1a2032eeb8>"
      ]
     },
     "execution_count": 103,
     "metadata": {},
     "output_type": "execute_result"
    },
    {
     "data": {
      "image/png": "[encoded data removed]",
      "text/plain": [
       "<matplotlib.figure.Figure at 0x1a15e0bf60>"
      ]
     },
     "metadata": {},
     "output_type": "display_data"
    }
   ],
   "source": [
    "featureImportance = pd.DataFrame({\"feature\": data2.drop('Happiness in life',axis=1).columns, \n",
    "                                                         \"importance\": logit.coef_[4, : ]})\n",
    "\n",
    "featureImportance.set_index('feature', inplace=True)\n",
    "featureImportance.sort_values([\"importance\"], ascending=False, inplace=True)\n",
    "featureImportance[\"importance\"].head(30).plot('bar', figsize=(12,5))\n",
    "featureImportance[\"importance\"].tail(30).plot('bar', figsize=(12,5))"
   ]
  }
 ],
 "metadata": {
  "kernelspec": {
   "display_name": "Python 3",
   "language": "python",
   "name": "python3"
  },
  "language_info": {
   "codemirror_mode": {
    "name": "ipython",
    "version": 3
   },
   "file_extension": ".py",
   "mimetype": "text/x-python",
   "name": "python",
   "nbconvert_exporter": "python",
   "pygments_lexer": "ipython3",
   "version": "3.6.4"
  },
  "varInspector": {
   "cols": {
    "lenName": 16,
    "lenType": 16,
    "lenVar": 40
   },
   "kernels_config": {
    "python": {
     "delete_cmd_postfix": "",
     "delete_cmd_prefix": "del ",
     "library": "var_list.py",
     "varRefreshCmd": "print(var_dic_list())"
    },
    "r": {
     "delete_cmd_postfix": ") ",
     "delete_cmd_prefix": "rm(",
     "library": "var_list.r",
     "varRefreshCmd": "cat(var_dic_list()) "
    }
   },
   "types_to_exclude": [
    "module",
    "function",
    "builtin_function_or_method",
    "instance",
    "_Feature"
   ],
   "window_display": false
  }
 },
 "nbformat": 4,
 "nbformat_minor": 2
}
